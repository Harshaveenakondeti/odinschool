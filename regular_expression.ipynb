{
  "nbformat": 4,
  "nbformat_minor": 0,
  "metadata": {
    "colab": {
      "name": "regular_expression.ipynb",
      "provenance": [],
      "collapsed_sections": []
    },
    "kernelspec": {
      "name": "python3",
      "display_name": "Python 3"
    },
    "language_info": {
      "name": "python"
    }
  },
  "cells": [
    {
      "cell_type": "markdown",
      "source": [
        "# Regular expression\n",
        "https://www.w3schools.com/python/python_regex.asp\n",
        "* sequence pf charecters for search pattern.\n",
        "* they have meta charecters.\n",
        "* help us to data cleaning\n",
        "https://docs.python.org/3/library/re.html\n"
      ],
      "metadata": {
        "id": "HxGUNE6HIYcO"
      }
    },
    {
      "cell_type": "markdown",
      "source": [
        ""
      ],
      "metadata": {
        "id": "4RqTiCkRUGlk"
      }
    },
    {
      "cell_type": "markdown",
      "source": [
        ""
      ],
      "metadata": {
        "id": "q5Nd-L_JUGis"
      }
    },
    {
      "cell_type": "markdown",
      "source": [
        "findall\n",
        "special sequences\\\n",
        "sets\n"
      ],
      "metadata": {
        "id": "oxt81sZoMPxl"
      }
    },
    {
      "cell_type": "code",
      "source": [
        "import re"
      ],
      "metadata": {
        "id": "f7t3cQNENMwM"
      },
      "execution_count": 1,
      "outputs": []
    },
    {
      "cell_type": "code",
      "source": [
        "ds15='DS15 is in third week of Python'\n",
        "print(re.findall(\"[A-Z]\",ds15))  # check capital letters between A-Z"
      ],
      "metadata": {
        "colab": {
          "base_uri": "https://localhost:8080/"
        },
        "id": "LUOmKkhBNN2F",
        "outputId": "0a4a528b-62c0-46f6-abbf-cad63f3ff25a"
      },
      "execution_count": 11,
      "outputs": [
        {
          "output_type": "stream",
          "name": "stdout",
          "text": [
            "['D', 'S', 'P']\n"
          ]
        }
      ]
    },
    {
      "cell_type": "code",
      "source": [
        "x=(re.findall(\"^DS\",ds15))  # starts with DS\n",
        "if x:\n",
        "  print('string starts')\n",
        "else:\n",
        "  print('not starts')"
      ],
      "metadata": {
        "colab": {
          "base_uri": "https://localhost:8080/"
        },
        "id": "TMS7Uy1qNkcp",
        "outputId": "8d16882f-bfa1-4cf2-f554-b881e38b8805"
      },
      "execution_count": 9,
      "outputs": [
        {
          "output_type": "stream",
          "name": "stdout",
          "text": [
            "string starts\n"
          ]
        }
      ]
    },
    {
      "cell_type": "code",
      "source": [
        "print(re.findall(\"[^A-Z]\",ds15)) # not with capital letters"
      ],
      "metadata": {
        "colab": {
          "base_uri": "https://localhost:8080/"
        },
        "id": "DnDWCHWbOSsN",
        "outputId": "7a9dda7b-171a-4297-a9b9-1df14235c86c"
      },
      "execution_count": 13,
      "outputs": [
        {
          "output_type": "stream",
          "name": "stdout",
          "text": [
            "['1', '5', ' ', 'i', 's', ' ', 'i', 'n', ' ', 't', 'h', 'i', 'r', 'd', ' ', 'w', 'e', 'e', 'k', ' ', 'o', 'f', ' ', 'y', 't', 'h', 'o', 'n']\n"
          ]
        }
      ]
    },
    {
      "cell_type": "code",
      "source": [
        "x=(re.findall(\"$DS\",ds15))  # ends with DS\n",
        "if x:\n",
        "  print('ends')\n",
        "else:\n",
        "  print('not ends')"
      ],
      "metadata": {
        "colab": {
          "base_uri": "https://localhost:8080/"
        },
        "id": "7H4xkHXAO3wm",
        "outputId": "feafbd09-71ca-4f73-e7ec-e5600b493d85"
      },
      "execution_count": 14,
      "outputs": [
        {
          "output_type": "stream",
          "name": "stdout",
          "text": [
            "not ends\n"
          ]
        }
      ]
    },
    {
      "cell_type": "code",
      "source": [
        "x=(re.findall(\"$on\",ds15))  # ends with DS\n",
        "if x:\n",
        "  print('ends')\n",
        "else:\n",
        "  print('not ends')"
      ],
      "metadata": {
        "colab": {
          "base_uri": "https://localhost:8080/"
        },
        "id": "GY8mD-m7PMHh",
        "outputId": "1baefb49-be4d-459a-fb5d-c0e1193b0924"
      },
      "execution_count": 15,
      "outputs": [
        {
          "output_type": "stream",
          "name": "stdout",
          "text": [
            "not ends\n"
          ]
        }
      ]
    },
    {
      "cell_type": "code",
      "source": [
        "x=(re.findall(\"Python$\",ds15))  # ends with DS\n",
        "if x:\n",
        "  print('ends')\n",
        "else:\n",
        "  print('not ends')"
      ],
      "metadata": {
        "colab": {
          "base_uri": "https://localhost:8080/"
        },
        "id": "wqR6Y6lWPaH8",
        "outputId": "2261ffa3-b562-4aab-98db-48b2494e36b3"
      },
      "execution_count": 18,
      "outputs": [
        {
          "output_type": "stream",
          "name": "stdout",
          "text": [
            "ends\n"
          ]
        }
      ]
    },
    {
      "cell_type": "markdown",
      "source": [
        "# search\n",
        "want to see if there is a specific pattern\n"
      ],
      "metadata": {
        "id": "ZHSZFOgLPyzv"
      }
    },
    {
      "cell_type": "code",
      "source": [
        "gene='NTGGFGTEBGGYWGDYWDGWGVGFTE'\n",
        "print(re.search('FGT',gene))  # search fun will search in string , and returns a match object it there is a match"
      ],
      "metadata": {
        "colab": {
          "base_uri": "https://localhost:8080/"
        },
        "id": "IYP7YLc6Pf_Z",
        "outputId": "149a7943-606f-4d92-88fa-6c76e4e66471"
      },
      "execution_count": 19,
      "outputs": [
        {
          "output_type": "stream",
          "name": "stdout",
          "text": [
            "<re.Match object; span=(4, 7), match='FGT'>\n"
          ]
        }
      ]
    },
    {
      "cell_type": "code",
      "source": [
        "# findall will only gives string not location\n",
        "print(re.findall('FGT.+B',gene)) # .+ for no need to use entire name"
      ],
      "metadata": {
        "colab": {
          "base_uri": "https://localhost:8080/"
        },
        "id": "yNHjacwwQPHF",
        "outputId": "037df0a8-cdd2-4d68-be07-058ea55b4c06"
      },
      "execution_count": 22,
      "outputs": [
        {
          "output_type": "stream",
          "name": "stdout",
          "text": [
            "['FGTEB']\n"
          ]
        }
      ]
    },
    {
      "cell_type": "markdown",
      "source": [
        "# span\n",
        "returns a tuple contains start and end position of match"
      ],
      "metadata": {
        "id": "HQMAq0bUReMl"
      }
    },
    {
      "cell_type": "code",
      "source": [
        "text='this is a Python'\n",
        "x=re.search(r\"\\bP\\w+\",text)  # \\w=all chars,+ after P only for word, \\b returns specified char present\n",
        "print(x.span())"
      ],
      "metadata": {
        "colab": {
          "base_uri": "https://localhost:8080/"
        },
        "id": "P1oGRh58Qo-m",
        "outputId": "bddf6b8d-53f7-4ed7-d943-f78e50b82b88"
      },
      "execution_count": 24,
      "outputs": [
        {
          "output_type": "stream",
          "name": "stdout",
          "text": [
            "(10, 16)\n"
          ]
        }
      ]
    },
    {
      "cell_type": "code",
      "source": [
        "print(x.string)  # gives whole string"
      ],
      "metadata": {
        "colab": {
          "base_uri": "https://localhost:8080/"
        },
        "id": "Q5GWdUpLSASJ",
        "outputId": "31325aad-45b2-49bf-ab42-7ccf67a57caf"
      },
      "execution_count": 25,
      "outputs": [
        {
          "output_type": "stream",
          "name": "stdout",
          "text": [
            "this is a Python\n"
          ]
        }
      ]
    },
    {
      "cell_type": "code",
      "source": [
        "print(x.group())   # starts with p gives that word"
      ],
      "metadata": {
        "colab": {
          "base_uri": "https://localhost:8080/"
        },
        "id": "pbuRIHdWSqh0",
        "outputId": "8eb888e2-f71a-49c4-93c6-784fb8841673"
      },
      "execution_count": 26,
      "outputs": [
        {
          "output_type": "stream",
          "name": "stdout",
          "text": [
            "Python\n"
          ]
        }
      ]
    },
    {
      "cell_type": "code",
      "source": [
        "print(re.search(\"((a|b)c)\",\"acbcc\").groups())  # check matching and tell where it is "
      ],
      "metadata": {
        "colab": {
          "base_uri": "https://localhost:8080/"
        },
        "id": "GgfU2qrESyRx",
        "outputId": "d8c4c636-1730-4179-8698-20402472068e"
      },
      "execution_count": 32,
      "outputs": [
        {
          "output_type": "stream",
          "name": "stdout",
          "text": [
            "('ac', 'a')\n"
          ]
        }
      ]
    },
    {
      "cell_type": "markdown",
      "source": [
        "# split\n"
      ],
      "metadata": {
        "id": "1Tfc2FdHTze4"
      }
    },
    {
      "cell_type": "code",
      "source": [
        "info='i is 60 batch'\n",
        "print(info.split('60'))"
      ],
      "metadata": {
        "colab": {
          "base_uri": "https://localhost:8080/"
        },
        "id": "avQWaFy3TU9k",
        "outputId": "5dfcf96c-206f-4987-eefa-d2ba5dbfe4fa"
      },
      "execution_count": 33,
      "outputs": [
        {
          "output_type": "stream",
          "name": "stdout",
          "text": [
            "['i is ', ' batch']\n"
          ]
        }
      ]
    },
    {
      "cell_type": "code",
      "source": [
        "print(re.split(\"\\d\",info))  # it splits num \\d  is digits"
      ],
      "metadata": {
        "colab": {
          "base_uri": "https://localhost:8080/"
        },
        "id": "pv3ae5GJUZv7",
        "outputId": "4917ec6c-3c27-4b61-9e9c-8cbe6f10f90a"
      },
      "execution_count": 34,
      "outputs": [
        {
          "output_type": "stream",
          "name": "stdout",
          "text": [
            "['i is ', '', ' batch']\n"
          ]
        }
      ]
    },
    {
      "cell_type": "code",
      "source": [
        "date=\"2022-9-4\"\n",
        "print(re.split(\"\\D\",date))  #\\D for non digit charecters"
      ],
      "metadata": {
        "colab": {
          "base_uri": "https://localhost:8080/"
        },
        "id": "So7ahFs6Uitu",
        "outputId": "ada9e64c-02e9-4a37-86e9-328189c1f0f6"
      },
      "execution_count": 36,
      "outputs": [
        {
          "output_type": "stream",
          "name": "stdout",
          "text": [
            "['2022', '9', '4']\n"
          ]
        }
      ]
    },
    {
      "cell_type": "code",
      "source": [
        "print(re.split(\"\\D\",date,maxsplit=2))# maxsplit is how many splits u want,"
      ],
      "metadata": {
        "colab": {
          "base_uri": "https://localhost:8080/"
        },
        "id": "IBfZhRoJU139",
        "outputId": "974e5b2e-f1b5-46d5-e5eb-7651a478d7e2"
      },
      "execution_count": 37,
      "outputs": [
        {
          "output_type": "stream",
          "name": "stdout",
          "text": [
            "['2022', '9', '4']\n"
          ]
        }
      ]
    },
    {
      "cell_type": "markdown",
      "source": [
        "# sub\n",
        "substitute this "
      ],
      "metadata": {
        "id": "tHoZanN8V2L_"
      }
    },
    {
      "cell_type": "code",
      "source": [
        "print(re.sub('FGT',\"wed\",gene))  # substitute FGT with wed"
      ],
      "metadata": {
        "colab": {
          "base_uri": "https://localhost:8080/"
        },
        "id": "V2mKhGi-VUAu",
        "outputId": "85fd5963-733d-4666-897b-d6106b7f2541"
      },
      "execution_count": 39,
      "outputs": [
        {
          "output_type": "stream",
          "name": "stdout",
          "text": [
            "NTGGwedEBGGYWGDYWDGWGVGFTE\n"
          ]
        }
      ]
    },
    {
      "cell_type": "code",
      "source": [
        ""
      ],
      "metadata": {
        "id": "VgqgdJ0ZWCSU"
      },
      "execution_count": null,
      "outputs": []
    }
  ]
}