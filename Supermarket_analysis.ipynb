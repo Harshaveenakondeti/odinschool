{
  "nbformat": 4,
  "nbformat_minor": 0,
  "metadata": {
    "colab": {
      "name": "Supermarket_analysis.ipynb",
      "provenance": [],
      "collapsed_sections": [],
      "toc_visible": true,
      "authorship_tag": "ABX9TyMBjtQPsNnYo7dC8TvwQFmB",
      "include_colab_link": true
    },
    "kernelspec": {
      "name": "python3",
      "display_name": "Python 3"
    },
    "language_info": {
      "name": "python"
    }
  },
  "cells": [
    {
      "cell_type": "markdown",
      "metadata": {
        "id": "view-in-github",
        "colab_type": "text"
      },
      "source": [
        "<a href=\"https://colab.research.google.com/github/Harshaveenakondeti/python-in-google-colab/blob/main/Supermarket_analysis.ipynb\" target=\"_parent\"><img src=\"https://colab.research.google.com/assets/colab-badge.svg\" alt=\"Open In Colab\"/></a>"
      ]
    },
    {
      "cell_type": "markdown",
      "source": [
        "# Supermarket sales Analysis\n"
      ],
      "metadata": {
        "id": "JQbA0sN0_911"
      }
    },
    {
      "cell_type": "markdown",
      "source": [
        "# Introduction\n",
        "This is a dataaset of supermarket which sells various type of product.\n",
        "\n",
        "**Aim** : I aim to identify to analyse who are the major custumers to it.which products are seling most.how much is their gross income.In which hour sales are more from given attributes.\n",
        "We have to analyse data and drawn insights from it\n",
        "\n",
        "\n",
        "\n"
      ],
      "metadata": {
        "id": "oe07W8p6AIq1"
      }
    },
    {
      "cell_type": "markdown",
      "source": [
        "## dataset Description\n",
        "It has 1000 rows and 17 columns, in which 8 are numerical ,7 are categorical 2 are date columns.\n",
        "## Columns Description:\n",
        "### Numerical columns:\n",
        "\n",
        "* **Unit price**: Price of each product in $\n",
        "* **Quantity**: Number of products purchased by customer\n",
        "* **Tax**: 5% tax fee for customer buying\n",
        "* **Total**: Total price including tax\n",
        "* **COGS**: Cost of goods sold\n",
        "* **Gross income**: Gross income\n",
        "* **Gross margin percentage**: Gross margin percentage\n",
        "* **Rating**: Customer stratification rating on their overall shopping experience (On a scale of 1 to 10)\n",
        "### Categorical columns:\n",
        "* **Invoice id**: Computer generated sales slip invoice identification number\n",
        "* **Branch**: Branch of supercenter (3 branches are available identified by A, B and C).\n",
        "* **City**: Location of supercenters\n",
        "* **Customer type**: Type of customers, recorded by Members for customers using member card and Normal for without member card.\n",
        "* **Gender**: Gender type of customer\n",
        "* **Product line**: General item categorization groups - Electronic accessories, Fashion accessories, Food and beverages, Health and beauty, Home and lifestyle, Sports and travel\n",
        "* **Payment**: Payment used by customer for purchase (3 methods are available – Cash, Credit card and Ewallet)\n",
        "\n",
        "### Date column:\n",
        "* **Date**: Date of purchase (Record available from January 2019 to March 2019)\n",
        "* **Time**: Purchase time (10am to 9pm)"
      ],
      "metadata": {
        "id": "Fz2f7xobehYJ"
      }
    },
    {
      "cell_type": "markdown",
      "source": [
        "# Purpose of project:\n",
        "solve following questions\n",
        "Part-1:\n",
        "*  1.Is your supermarket more popular with males or females? \n",
        "*  2.What does the customer rating look like and can you also comment on its skewness? \n",
        "*  3.What can you say about the aggregate sales across the branches? 4.Which is the most popular payment method used by customers?\n",
        "*  Part-2:\n",
        "\n",
        "* 1.Does gross income affect customer ratings?\n",
        "*  2.Which is the most profitable branch? \n",
        "* 3.Create a boxplot between Gender and Gross income and explain the results? \n",
        "* 4.Can you see any time trend in gross income? \n",
        "* 5.What is the spending pattern of both males and females, meaning in which category do they spend more? \n",
        "* 6.How many products are bought by customers?\n",
        "*  7.Which day of the week has maximum sales?\n",
        "*  8.Which hour of the day is busiest? \n",
        "* 9.Which product line should your supermarket focus on?\n",
        "*  10.Which city should be chosen for expansion and what products should be focussed on?"
      ],
      "metadata": {
        "id": "XGFVqZK9Xw6R"
      }
    },
    {
      "cell_type": "code",
      "source": [
        "# import neccessary libraries\n",
        "import pandas as pd   # for dataframe\n",
        "import numpy as np  # for maths calculations\n",
        "from matplotlib import pyplot as plt # visualization libraries\n",
        "import seaborn as sns"
      ],
      "metadata": {
        "id": "Zf2Q33BQAHtz"
      },
      "execution_count": null,
      "outputs": []
    },
    {
      "cell_type": "markdown",
      "source": [
        "# Data Collection\n",
        "Data is collected from LMS.It is uploaded to Google Colab.Data is read into pandas dataframe"
      ],
      "metadata": {
        "id": "nQF4hoSYdtsn"
      }
    },
    {
      "cell_type": "code",
      "source": [
        "# read data into pandas dataframe\n",
        "df = pd.read_excel('supermarket_sales.xlsx')   # convert data inti dataframe"
      ],
      "metadata": {
        "id": "qgGyxR_YDdVl"
      },
      "execution_count": null,
      "outputs": []
    },
    {
      "cell_type": "markdown",
      "source": [
        "# data Exploring"
      ],
      "metadata": {
        "id": "8pTdU-hWeIaT"
      }
    },
    {
      "cell_type": "markdown",
      "source": [
        "Now, we will check data has imported or not by using head() function .it will give first 5 data  of rows"
      ],
      "metadata": {
        "id": "kciqquRAD5Os"
      }
    },
    {
      "cell_type": "code",
      "source": [
        "df.head()  # read 5 rows of all columns"
      ],
      "metadata": {
        "colab": {
          "base_uri": "https://localhost:8080/",
          "height": 392
        },
        "id": "R8SqSQhPD33I",
        "outputId": "24c978de-3520-4691-cd81-51eaefb6b131"
      },
      "execution_count": null,
      "outputs": [
        {
          "output_type": "execute_result",
          "data": {
            "text/plain": [
              "    Invoice ID Branch city code  Customer type  Gender Product code  \\\n",
              "0  750-67-8428      A        CT1        Member  Female          PD1   \n",
              "1  226-31-3081      C        CT3        Normal  Female          PD2   \n",
              "2  631-41-3108      A        CT1        Normal    Male          PD3   \n",
              "3  123-19-1176      A        CT1        Member    Male          PD1   \n",
              "4  373-73-7910      A        CT1        Normal    Male          PD4   \n",
              "\n",
              "  Unit price  Quantity   Tax 5%     Total       Date      Time      Payment  \\\n",
              "0      74.69         7  26.1415  548.9715 2019-01-05  13:08:00      Ewallet   \n",
              "1      15.28         5   3.8200   80.2200 2019-03-08  10:29:00         Cash   \n",
              "2      46.33         7  16.2155  340.5255 2019-03-03  13:23:00  Credit card   \n",
              "3      58.22         8  23.2880  489.0480 2019-01-27  20:33:00      Ewallet   \n",
              "4      86.31         7  30.2085  634.3785 2019-02-08  10:37:00      Ewallet   \n",
              "\n",
              "     cogs  gross margin percentage  gross income  Rating  \n",
              "0  522.83                 4.761905       26.1415     9.1  \n",
              "1   76.40                 4.761905        3.8200     9.6  \n",
              "2  324.31                 4.761905       16.2155     7.4  \n",
              "3  465.76                 4.761905       23.2880     8.4  \n",
              "4  604.17                 4.761905       30.2085     5.3  "
            ],
            "text/html": [
              "\n",
              "  <div id=\"df-d75f16f9-c9ca-4d97-9ab2-5ce3329392a2\">\n",
              "    <div class=\"colab-df-container\">\n",
              "      <div>\n",
              "<style scoped>\n",
              "    .dataframe tbody tr th:only-of-type {\n",
              "        vertical-align: middle;\n",
              "    }\n",
              "\n",
              "    .dataframe tbody tr th {\n",
              "        vertical-align: top;\n",
              "    }\n",
              "\n",
              "    .dataframe thead th {\n",
              "        text-align: right;\n",
              "    }\n",
              "</style>\n",
              "<table border=\"1\" class=\"dataframe\">\n",
              "  <thead>\n",
              "    <tr style=\"text-align: right;\">\n",
              "      <th></th>\n",
              "      <th>Invoice ID</th>\n",
              "      <th>Branch</th>\n",
              "      <th>city code</th>\n",
              "      <th>Customer type</th>\n",
              "      <th>Gender</th>\n",
              "      <th>Product code</th>\n",
              "      <th>Unit price</th>\n",
              "      <th>Quantity</th>\n",
              "      <th>Tax 5%</th>\n",
              "      <th>Total</th>\n",
              "      <th>Date</th>\n",
              "      <th>Time</th>\n",
              "      <th>Payment</th>\n",
              "      <th>cogs</th>\n",
              "      <th>gross margin percentage</th>\n",
              "      <th>gross income</th>\n",
              "      <th>Rating</th>\n",
              "    </tr>\n",
              "  </thead>\n",
              "  <tbody>\n",
              "    <tr>\n",
              "      <th>0</th>\n",
              "      <td>750-67-8428</td>\n",
              "      <td>A</td>\n",
              "      <td>CT1</td>\n",
              "      <td>Member</td>\n",
              "      <td>Female</td>\n",
              "      <td>PD1</td>\n",
              "      <td>74.69</td>\n",
              "      <td>7</td>\n",
              "      <td>26.1415</td>\n",
              "      <td>548.9715</td>\n",
              "      <td>2019-01-05</td>\n",
              "      <td>13:08:00</td>\n",
              "      <td>Ewallet</td>\n",
              "      <td>522.83</td>\n",
              "      <td>4.761905</td>\n",
              "      <td>26.1415</td>\n",
              "      <td>9.1</td>\n",
              "    </tr>\n",
              "    <tr>\n",
              "      <th>1</th>\n",
              "      <td>226-31-3081</td>\n",
              "      <td>C</td>\n",
              "      <td>CT3</td>\n",
              "      <td>Normal</td>\n",
              "      <td>Female</td>\n",
              "      <td>PD2</td>\n",
              "      <td>15.28</td>\n",
              "      <td>5</td>\n",
              "      <td>3.8200</td>\n",
              "      <td>80.2200</td>\n",
              "      <td>2019-03-08</td>\n",
              "      <td>10:29:00</td>\n",
              "      <td>Cash</td>\n",
              "      <td>76.40</td>\n",
              "      <td>4.761905</td>\n",
              "      <td>3.8200</td>\n",
              "      <td>9.6</td>\n",
              "    </tr>\n",
              "    <tr>\n",
              "      <th>2</th>\n",
              "      <td>631-41-3108</td>\n",
              "      <td>A</td>\n",
              "      <td>CT1</td>\n",
              "      <td>Normal</td>\n",
              "      <td>Male</td>\n",
              "      <td>PD3</td>\n",
              "      <td>46.33</td>\n",
              "      <td>7</td>\n",
              "      <td>16.2155</td>\n",
              "      <td>340.5255</td>\n",
              "      <td>2019-03-03</td>\n",
              "      <td>13:23:00</td>\n",
              "      <td>Credit card</td>\n",
              "      <td>324.31</td>\n",
              "      <td>4.761905</td>\n",
              "      <td>16.2155</td>\n",
              "      <td>7.4</td>\n",
              "    </tr>\n",
              "    <tr>\n",
              "      <th>3</th>\n",
              "      <td>123-19-1176</td>\n",
              "      <td>A</td>\n",
              "      <td>CT1</td>\n",
              "      <td>Member</td>\n",
              "      <td>Male</td>\n",
              "      <td>PD1</td>\n",
              "      <td>58.22</td>\n",
              "      <td>8</td>\n",
              "      <td>23.2880</td>\n",
              "      <td>489.0480</td>\n",
              "      <td>2019-01-27</td>\n",
              "      <td>20:33:00</td>\n",
              "      <td>Ewallet</td>\n",
              "      <td>465.76</td>\n",
              "      <td>4.761905</td>\n",
              "      <td>23.2880</td>\n",
              "      <td>8.4</td>\n",
              "    </tr>\n",
              "    <tr>\n",
              "      <th>4</th>\n",
              "      <td>373-73-7910</td>\n",
              "      <td>A</td>\n",
              "      <td>CT1</td>\n",
              "      <td>Normal</td>\n",
              "      <td>Male</td>\n",
              "      <td>PD4</td>\n",
              "      <td>86.31</td>\n",
              "      <td>7</td>\n",
              "      <td>30.2085</td>\n",
              "      <td>634.3785</td>\n",
              "      <td>2019-02-08</td>\n",
              "      <td>10:37:00</td>\n",
              "      <td>Ewallet</td>\n",
              "      <td>604.17</td>\n",
              "      <td>4.761905</td>\n",
              "      <td>30.2085</td>\n",
              "      <td>5.3</td>\n",
              "    </tr>\n",
              "  </tbody>\n",
              "</table>\n",
              "</div>\n",
              "      <button class=\"colab-df-convert\" onclick=\"convertToInteractive('df-d75f16f9-c9ca-4d97-9ab2-5ce3329392a2')\"\n",
              "              title=\"Convert this dataframe to an interactive table.\"\n",
              "              style=\"display:none;\">\n",
              "        \n",
              "  <svg xmlns=\"http://www.w3.org/2000/svg\" height=\"24px\"viewBox=\"0 0 24 24\"\n",
              "       width=\"24px\">\n",
              "    <path d=\"M0 0h24v24H0V0z\" fill=\"none\"/>\n",
              "    <path d=\"M18.56 5.44l.94 2.06.94-2.06 2.06-.94-2.06-.94-.94-2.06-.94 2.06-2.06.94zm-11 1L8.5 8.5l.94-2.06 2.06-.94-2.06-.94L8.5 2.5l-.94 2.06-2.06.94zm10 10l.94 2.06.94-2.06 2.06-.94-2.06-.94-.94-2.06-.94 2.06-2.06.94z\"/><path d=\"M17.41 7.96l-1.37-1.37c-.4-.4-.92-.59-1.43-.59-.52 0-1.04.2-1.43.59L10.3 9.45l-7.72 7.72c-.78.78-.78 2.05 0 2.83L4 21.41c.39.39.9.59 1.41.59.51 0 1.02-.2 1.41-.59l7.78-7.78 2.81-2.81c.8-.78.8-2.07 0-2.86zM5.41 20L4 18.59l7.72-7.72 1.47 1.35L5.41 20z\"/>\n",
              "  </svg>\n",
              "      </button>\n",
              "      \n",
              "  <style>\n",
              "    .colab-df-container {\n",
              "      display:flex;\n",
              "      flex-wrap:wrap;\n",
              "      gap: 12px;\n",
              "    }\n",
              "\n",
              "    .colab-df-convert {\n",
              "      background-color: #E8F0FE;\n",
              "      border: none;\n",
              "      border-radius: 50%;\n",
              "      cursor: pointer;\n",
              "      display: none;\n",
              "      fill: #1967D2;\n",
              "      height: 32px;\n",
              "      padding: 0 0 0 0;\n",
              "      width: 32px;\n",
              "    }\n",
              "\n",
              "    .colab-df-convert:hover {\n",
              "      background-color: #E2EBFA;\n",
              "      box-shadow: 0px 1px 2px rgba(60, 64, 67, 0.3), 0px 1px 3px 1px rgba(60, 64, 67, 0.15);\n",
              "      fill: #174EA6;\n",
              "    }\n",
              "\n",
              "    [theme=dark] .colab-df-convert {\n",
              "      background-color: #3B4455;\n",
              "      fill: #D2E3FC;\n",
              "    }\n",
              "\n",
              "    [theme=dark] .colab-df-convert:hover {\n",
              "      background-color: #434B5C;\n",
              "      box-shadow: 0px 1px 3px 1px rgba(0, 0, 0, 0.15);\n",
              "      filter: drop-shadow(0px 1px 2px rgba(0, 0, 0, 0.3));\n",
              "      fill: #FFFFFF;\n",
              "    }\n",
              "  </style>\n",
              "\n",
              "      <script>\n",
              "        const buttonEl =\n",
              "          document.querySelector('#df-d75f16f9-c9ca-4d97-9ab2-5ce3329392a2 button.colab-df-convert');\n",
              "        buttonEl.style.display =\n",
              "          google.colab.kernel.accessAllowed ? 'block' : 'none';\n",
              "\n",
              "        async function convertToInteractive(key) {\n",
              "          const element = document.querySelector('#df-d75f16f9-c9ca-4d97-9ab2-5ce3329392a2');\n",
              "          const dataTable =\n",
              "            await google.colab.kernel.invokeFunction('convertToInteractive',\n",
              "                                                     [key], {});\n",
              "          if (!dataTable) return;\n",
              "\n",
              "          const docLinkHtml = 'Like what you see? Visit the ' +\n",
              "            '<a target=\"_blank\" href=https://colab.research.google.com/notebooks/data_table.ipynb>data table notebook</a>'\n",
              "            + ' to learn more about interactive tables.';\n",
              "          element.innerHTML = '';\n",
              "          dataTable['output_type'] = 'display_data';\n",
              "          await google.colab.output.renderOutput(dataTable, element);\n",
              "          const docLink = document.createElement('div');\n",
              "          docLink.innerHTML = docLinkHtml;\n",
              "          element.appendChild(docLink);\n",
              "        }\n",
              "      </script>\n",
              "    </div>\n",
              "  </div>\n",
              "  "
            ]
          },
          "metadata": {},
          "execution_count": 3
        }
      ]
    },
    {
      "cell_type": "markdown",
      "source": [
        "Now, we will check columns of in dataframe"
      ],
      "metadata": {
        "id": "fJ-_EIRfETsK"
      }
    },
    {
      "cell_type": "code",
      "source": [
        "df.columns"
      ],
      "metadata": {
        "colab": {
          "base_uri": "https://localhost:8080/"
        },
        "id": "9MeQK4RjERBZ",
        "outputId": "3c6a5a47-dbc2-4cfc-e1f2-eddfce3dab8a"
      },
      "execution_count": null,
      "outputs": [
        {
          "output_type": "execute_result",
          "data": {
            "text/plain": [
              "Index(['Invoice ID', 'Branch', 'city code ', 'Customer type', 'Gender',\n",
              "       'Product code', 'Unit price', 'Quantity', 'Tax 5%', 'Total', 'Date',\n",
              "       'Time', 'Payment', 'cogs', 'gross margin percentage', 'gross income',\n",
              "       'Rating'],\n",
              "      dtype='object')"
            ]
          },
          "metadata": {},
          "execution_count": 4
        }
      ]
    },
    {
      "cell_type": "markdown",
      "source": [
        "Lets, check shape of dataframe, how many rows and columns"
      ],
      "metadata": {
        "id": "KKSdMeMREc2U"
      }
    },
    {
      "cell_type": "code",
      "source": [
        "df.shape"
      ],
      "metadata": {
        "colab": {
          "base_uri": "https://localhost:8080/"
        },
        "id": "EH1QdPuEEZwz",
        "outputId": "93f98867-3d93-4eec-8472-640b98977acf"
      },
      "execution_count": null,
      "outputs": [
        {
          "output_type": "execute_result",
          "data": {
            "text/plain": [
              "(1000, 17)"
            ]
          },
          "metadata": {},
          "execution_count": 5
        }
      ]
    },
    {
      "cell_type": "markdown",
      "source": [
        "So, it has 1000 rows and 17 columns, in which 8 are numerical,7 are ctaegorical,2 are data. lets check data types of columns"
      ],
      "metadata": {
        "id": "RkUTVysrEl96"
      }
    },
    {
      "cell_type": "code",
      "source": [
        "df.info() # data type of columns"
      ],
      "metadata": {
        "colab": {
          "base_uri": "https://localhost:8080/"
        },
        "id": "bYd7PDatEj0s",
        "outputId": "1cb66977-9c5c-4b84-a436-32ea3c831348"
      },
      "execution_count": null,
      "outputs": [
        {
          "output_type": "stream",
          "name": "stdout",
          "text": [
            "<class 'pandas.core.frame.DataFrame'>\n",
            "RangeIndex: 1000 entries, 0 to 999\n",
            "Data columns (total 17 columns):\n",
            " #   Column                   Non-Null Count  Dtype         \n",
            "---  ------                   --------------  -----         \n",
            " 0   Invoice ID               1000 non-null   object        \n",
            " 1   Branch                   1000 non-null   object        \n",
            " 2   city code                1000 non-null   object        \n",
            " 3   Customer type            1000 non-null   object        \n",
            " 4   Gender                   1000 non-null   object        \n",
            " 5   Product code             1000 non-null   object        \n",
            " 6   Unit price               996 non-null    object        \n",
            " 7   Quantity                 1000 non-null   int64         \n",
            " 8   Tax 5%                   1000 non-null   float64       \n",
            " 9   Total                    1000 non-null   float64       \n",
            " 10  Date                     1000 non-null   datetime64[ns]\n",
            " 11  Time                     1000 non-null   object        \n",
            " 12  Payment                  1000 non-null   object        \n",
            " 13  cogs                     1000 non-null   float64       \n",
            " 14  gross margin percentage  1000 non-null   float64       \n",
            " 15  gross income             1000 non-null   float64       \n",
            " 16  Rating                   993 non-null    float64       \n",
            "dtypes: datetime64[ns](1), float64(6), int64(1), object(9)\n",
            "memory usage: 132.9+ KB\n"
          ]
        }
      ]
    },
    {
      "cell_type": "markdown",
      "source": [
        "In 1000 rows, we have 4 null values in Unit price column, 7 null values in Rating column.Unit price is in Object datatype. But it should be in float datatype.time should bw converted to datetime type.payment,gender,product code,customer type,city code,branch should be converted to catogory type."
      ],
      "metadata": {
        "id": "N-fKyc5EGpyL"
      }
    },
    {
      "cell_type": "markdown",
      "source": [
        "# Data cleaning"
      ],
      "metadata": {
        "id": "78V7hUd_ZQyf"
      }
    },
    {
      "cell_type": "code",
      "source": [
        "for col in ['Branch','city code ','Customer type','Gender','Product code','Payment']:\n",
        "  df[col]=df[col].astype('category')"
      ],
      "metadata": {
        "id": "H8f3JyIzJq-X"
      },
      "execution_count": null,
      "outputs": []
    },
    {
      "cell_type": "markdown",
      "source": [
        "here, we converted branch,city code,customer type,gender,product code,payment in to category type"
      ],
      "metadata": {
        "id": "1uzQgbh1ZU5q"
      }
    },
    {
      "cell_type": "code",
      "source": [
        "df['Unit price'].value_counts()"
      ],
      "metadata": {
        "colab": {
          "base_uri": "https://localhost:8080/"
        },
        "id": "uRTUJxrYQjXX",
        "outputId": "4358d48d-ae00-432e-fced-baaba408c3cd"
      },
      "execution_count": null,
      "outputs": [
        {
          "output_type": "execute_result",
          "data": {
            "text/plain": [
              "-        5\n",
              "83.77    3\n",
              "65.94    2\n",
              "36.36    2\n",
              "99.82    2\n",
              "        ..\n",
              "14.7     1\n",
              "28.45    1\n",
              "57.95    1\n",
              "47.65    1\n",
              "88.34    1\n",
              "Name: Unit price, Length: 935, dtype: int64"
            ]
          },
          "metadata": {},
          "execution_count": 8
        }
      ]
    },
    {
      "cell_type": "markdown",
      "source": [
        "here we checked unitprice column values"
      ],
      "metadata": {
        "id": "rbyZjPajZhyW"
      }
    },
    {
      "cell_type": "code",
      "source": [
        "import re  # import regex library for string manipulation"
      ],
      "metadata": {
        "id": "Xv1SubuiQjaR"
      },
      "execution_count": null,
      "outputs": []
    },
    {
      "cell_type": "code",
      "source": [
        "df['Unit price'].unique()"
      ],
      "metadata": {
        "colab": {
          "base_uri": "https://localhost:8080/"
        },
        "id": "GuGk07G6K5AV",
        "outputId": "655e2314-c813-4be9-b5be-0dd466ca9c64"
      },
      "execution_count": null,
      "outputs": [
        {
          "output_type": "execute_result",
          "data": {
            "text/plain": [
              "array([74.69, 15.28, 46.33, 58.22, 86.31, 85.39, 68.84, 73.56, '-', 54.84,\n",
              "       14.48, 25.51, 46.95, 43.19, 71.38, 93.72, 68.93, 72.61, 54.67,\n",
              "       40.3, 86.04, 87.98, 33.2, 34.56, 88.63, 52.59, 33.52, 87.67, 88.36,\n",
              "       24.89, 94.13, 78.07, 83.78, 96.58, 99.42, 68.12, 62.62, 60.88,\n",
              "       54.92, 30.12, 86.72, 56.11, 69.12, 98.7, 15.37, 93.96, 56.69,\n",
              "       20.01, 18.93, 82.63, 91.4, 44.59, 17.87, 15.43, '$', 85.98, 44.34,\n",
              "       89.6, 72.35, 30.61, 24.74, 55.73, 55.07, 15.81, 75.74, 15.87,\n",
              "       33.47, 97.61, 78.77, 18.33, 89.48, 62.12, 48.52, 75.91, 74.67,\n",
              "       41.65, 49.04, 78.31, 20.38, 99.19, 96.68, 19.25, 80.36, 48.91,\n",
              "       83.06, 76.52, 49.38, 42.47, 76.99, 47.38, 44.86, 21.98, 64.36,\n",
              "       89.75, 97.16, 87.87, 12.45, 52.75, 82.7, 48.71, 78.55, 23.07,\n",
              "       58.26, 30.35, 88.67, 27.38, 62.13, 33.98, 81.97, 16.49, 98.21,\n",
              "       72.84, 58.07, 80.79, 27.02, 21.94, 51.36, 10.96, 53.44, 99.56,\n",
              "       57.12, 99.96, 63.91, 56.47, 93.69, 32.25, 31.73, 68.54, 90.28,\n",
              "       39.62, 92.13, 34.84, 87.45, 81.3, 90.22, 26.31, 34.42, 51.91, 72.5,\n",
              "       89.8, 90.5, 68.6, 30.41, 77.95, 46.26, 30.14, 66.14, 71.86, 32.46,\n",
              "       91.54, 83.24, 16.48, 80.97, 92.29, 72.17, 50.28, 97.22, 93.39,\n",
              "       43.18, 63.69, 45.79, 76.4, 39.9, 42.57, 95.58, 98.98, 51.28, 69.52,\n",
              "       70.01, 80.05, 20.85, 52.89, 19.79, 33.84, 22.17, 22.51, 73.88,\n",
              "       86.8, 64.26, 38.47, 15.5, 34.31, 12.34, 18.08, 94.49, 46.47, 74.07,\n",
              "       69.81, 77.04, 73.52, 87.8, 25.55, 32.71, 74.29, 43.7, 25.29, 41.5,\n",
              "       71.39, 19.15, 57.49, 61.41, 25.9, 17.77, 23.03, 66.65, 28.53,\n",
              "       30.37, 99.73, 26.23, 93.26, 92.36, 46.42, 29.61, 18.28, 24.77,\n",
              "       94.64, 94.87, 57.34, 45.35, 62.08, 11.81, 12.54, 43.25, 87.16,\n",
              "       69.37, 37.06, 90.7, 63.42, 81.37, 10.59, 84.09, 73.82, 51.94,\n",
              "       93.14, 17.41, 44.22, 13.22, 89.69, 24.94, 59.77, 93.2, 62.65,\n",
              "       93.87, 47.59, 81.4, 17.94, 77.72, 73.06, 46.55, 35.19, 14.39,\n",
              "       23.75, 58.9, 32.62, 66.35, 25.91, 65.94, 75.06, 16.45, 38.3, 22.24,\n",
              "       54.45, 98.4, 35.47, 74.6, 70.74, 35.54, 67.43, 21.12, 21.54, 12.03,\n",
              "       99.71, 47.97, 21.82, 95.42, 70.99, 44.02, 69.96, 37, 15.34, 99.83,\n",
              "       47.67, 66.68, 74.86, 48.51, 94.88, 27.85, 62.48, 36.36, 18.11,\n",
              "       51.92, 28.84, 78.38, 60.01, 88.61, 99.82, 39.01, 48.61, 51.19,\n",
              "       14.96, 72.2, 40.23, 88.79, 26.48, 81.91, 79.93, 69.33, 14.23,\n",
              "       15.55, 78.13, 99.37, 21.08, 74.79, 29.67, 44.07, 22.93, 39.42,\n",
              "       15.26, 61.77, 21.52, 97.74, 99.78, 94.26, 51.13, 22.02, 32.9,\n",
              "       77.02, 23.48, 14.7, 28.45, 57.95, 47.65, 42.82, 48.09, 55.97, 76.9,\n",
              "       97.03, 44.65, 77.93, 71.95, 89.25, 26.02, 13.5, 99.3, 51.69, 54.73,\n",
              "       27, 30.24, 89.14, 37.55, 95.44, 27.5, 74.97, 80.96, 94.47, 99.79,\n",
              "       73.22, 41.24, 81.68, 51.32, 14.36, 21.5, 26.26, 60.96, 70.11,\n",
              "       42.08, 67.09, 96.7, 35.38, 95.49, 96.98, 23.65, 82.33, 26.61,\n",
              "       99.69, 74.89, 40.94, 75.82, 46.77, 32.32, 54.07, 18.22, 80.48,\n",
              "       37.95, 76.82, 52.26, 79.74, 77.5, 54.27, 13.59, 41.06, 19.24,\n",
              "       39.43, 46.22, 13.98, 39.75, 97.79, 67.26, 13.79, 68.71, 56.53,\n",
              "       23.82, 34.21, 21.87, 20.97, 25.84, 50.93, 96.11, 45.38, 81.51,\n",
              "       57.22, 25.22, 38.6, 84.05, 97.21, 25.42, 16.28, 40.61, 53.17,\n",
              "       20.87, 67.27, 90.65, 69.08, 43.27, 23.46, 95.54, 47.44, 99.24,\n",
              "       82.93, 33.99, 17.04, 40.86, 17.44, 88.43, 89.21, 12.78, 19.1,\n",
              "       27.66, 45.74, 27.07, 39.12, 74.71, 22.01, 63.61, 25, 20.77, 29.56,\n",
              "       77.4, 79.39, 46.57, 35.89, 40.52, 73.05, 73.95, 22.62, 51.34,\n",
              "       54.55, 37.15, 37.02, 21.58, 98.84, 83.77, 40.05, 43.13, 72.57,\n",
              "       64.44, 65.18, 33.26, 84.07, 34.37, 65.97, 32.8, 37.14, 60.38,\n",
              "       36.98, 49.49, 41.09, 22.96, 77.68, 34.7, 19.66, 25.32, 12.12,\n",
              "       99.89, 75.92, 63.22, 90.24, 98.13, 51.52, 73.97, 31.9, 69.4, 93.31,\n",
              "       88.45, 24.18, 48.5, 61.29, 15.95, 90.74, 42.91, 54.28, 99.55,\n",
              "       58.39, 51.47, 54.86, 39.39, 34.73, 71.92, 45.71, 83.17, 37.44,\n",
              "       62.87, 81.71, 91.41, 39.21, 59.86, 54.36, 98.09, 25.43, 86.68,\n",
              "       22.95, 16.31, 28.32, 16.67, 73.96, 97.94, 87.48, 30.68, 75.88,\n",
              "       20.18, 18.77, 71.2, 38.81, 29.42, 60.95, 51.54, 66.06, 57.27,\n",
              "       54.31, 58.24, 22.21, 19.32, 37.48, 72.04, 98.52, 41.66, 72.42,\n",
              "       89.2, 42.42, 74.51, 99.25, 81.21, 49.33, 65.74, 79.86, 73.98,\n",
              "       82.04, 26.67, 10.13, 72.39, 85.91, 81.31, 60.3, 31.77, 64.27,\n",
              "       69.51, 27.22, 92.98, 63.06, 51.71, 52.34, 43.06, 59.61, 14.62,\n",
              "       46.53, 24.24, 45.58, 75.2, 96.8, 14.82, 52.2, 46.66, 36.85, 70.32,\n",
              "       83.08, 64.99, 77.56, 54.51, 51.89, 31.75, 53.65, 49.79, 57.89,\n",
              "       28.96, 98.97, 93.22, 80.93, 67.45, 38.72, 72.6, 87.91, 98.53,\n",
              "       43.46, 71.68, 91.61, 94.59, 83.25, 91.35, 78.88, 60.87, 82.58,\n",
              "       53.3, 12.09, 64.19, 99.7, 79.91, 66.47, 28.95, 46.2, 17.63, 52.42,\n",
              "       98.79, 88.55, 55.67, 72.52, 12.05, 19.36, 70.21, 33.63, 15.49,\n",
              "       75.66, 55.81, 72.78, 37.32, 60.18, 15.69, 88.15, 27.93, 55.45,\n",
              "       42.97, 17.14, 58.75, 87.1, 98.8, 48.63, 57.74, 17.97, 47.71, 40.62,\n",
              "       56.04, 93.4, 73.41, 33.64, 45.48, 64.08, 73.47, 58.95, 39.48,\n",
              "       34.81, 49.32, 21.48, 23.08, 49.1, 64.83, 63.56, 72.88, 67.1, 70.19,\n",
              "       55.04, 73.38, 52.6, 87.37, 27.04, 62.19, 69.58, 97.5, 60.41, 19.77,\n",
              "       80.47, 88.39, 71.77, 43, 68.98, 15.62, 25.7, 80.62, 75.53, 77.63,\n",
              "       13.85, 35.68, 71.46, 11.94, 17.48, 25.56, 90.63, 44.12, 36.77,\n",
              "       23.34, 28.5, 55.57, 69.74, 97.26, 52.18, 22.32, 56, 19.7, 53.72,\n",
              "       81.95, 81.2, 58.76, 91.56, 55.61, 84.83, 71.63, 37.69, 31.67,\n",
              "       38.42, 65.23, 10.53, 12.29, 81.23, 27.28, 17.42, 73.28, 84.87,\n",
              "       97.29, 35.74, 96.52, 18.85, 55.39, 77.2, 72.13, 63.88, 10.69, 55.5,\n",
              "       95.46, 76.06, 13.69, 95.64, 11.43, 85.87, 67.99, 65.65, 28.86,\n",
              "       65.31, 93.38, 25.25, nan, 94.76, 30.62, 44.01, 10.16, 74.58, 71.89,\n",
              "       10.99, 60.47, 58.91, 46.41, 68.55, 97.37, 92.6, 46.61, 27.18,\n",
              "       24.49, 92.78, 86.69, 23.01, 30.2, 67.39, 48.96, 75.59, 77.47,\n",
              "       93.18, 50.23, 17.75, 62.18, 10.75, 40.26, 64.97, 95.15, 48.62,\n",
              "       53.21, 45.44, 33.88, 96.16, 47.16, 47.68, 10.17, 60.08, 72.11,\n",
              "       41.28, 64.95, 10.56, 62.57, 11.85, 91.3, 40.73, 52.38, 38.54,\n",
              "       44.63, 55.87, 29.22, 39.47, 14.87, 21.32, 93.78, 73.26, 22.38,\n",
              "       99.1, 74.1, 98.48, 52.79, 95.95, 36.51, 28.31, 57.59, 47.63, 86.27,\n",
              "       12.76, 11.28, 51.07, 79.59, 33.81, 90.53, 62.82, 24.31, 64.59,\n",
              "       24.82, 56.5, 21.43, 89.06, 23.29, 65.26, 90.02, 12.1, 33.21, 10.18,\n",
              "       31.99, 83.34, 87.9, 12.19, 76.92, 83.66, 57.91, 92.49, 28.38,\n",
              "       50.45, 99.16, 60.74, 47.27, 85.6, 35.04, 44.84, 45.97, 11.53,\n",
              "       58.32, 84.61, 82.88, 79.54, 49.01, 29.15, 56.13, 93.12, 99.6,\n",
              "       35.49, 42.85, 94.67, 68.97, 16.37, 12.73, 83.14, 35.22, 13.78,\n",
              "       88.31, 88.25, 25.31, 99.92, 83.35, 74.44, 63.15, 85.72, 78.89,\n",
              "       92.09, 57.29, 66.52, 45.68, 50.79, 10.08, 93.88, 84.25, 53.78,\n",
              "       35.81, 26.43, 21.9, 62.85, 21.04, 65.91, 50.49, 46.02, 15.8, 98.66,\n",
              "       91.98, 20.89, 96.82, 33.33, 38.27, 33.3, 34.49, 84.63, 36.91,\n",
              "       87.08, 80.08, 86.13, 49.92, 74.66, 26.6, 25.45, 67.77, 59.59, 'o',\n",
              "       97.48, 96.37, 63.71, 14.76, 62, 82.34, 75.37, 56.56, 76.6, 58.03,\n",
              "       17.49, 40.35, 97.38, 31.84, 65.82, 88.34], dtype=object)"
            ]
          },
          "metadata": {},
          "execution_count": 10
        }
      ]
    },
    {
      "cell_type": "markdown",
      "source": [
        "through unique values, we can see there are special charecters present in column, that is the reason its data type is object"
      ],
      "metadata": {
        "id": "o-fiixsVZuRU"
      }
    },
    {
      "cell_type": "code",
      "source": [
        "df['Unit price']=df['Unit price'].replace(['-','$','o','nan'],'NaN')"
      ],
      "metadata": {
        "id": "RxpuuQlIXjo_"
      },
      "execution_count": null,
      "outputs": []
    },
    {
      "cell_type": "markdown",
      "source": [
        "replaced special charecters with Nan "
      ],
      "metadata": {
        "id": "d-OslvcVZ5sK"
      }
    },
    {
      "cell_type": "code",
      "source": [
        "df=df.dropna()  # drop null values containg Nan"
      ],
      "metadata": {
        "id": "YWoIKirRQjy0"
      },
      "execution_count": null,
      "outputs": []
    },
    {
      "cell_type": "code",
      "source": [
        "df['Unit price']=df['Unit price'].astype(float)"
      ],
      "metadata": {
        "id": "qyyHqif3JEls"
      },
      "execution_count": null,
      "outputs": []
    },
    {
      "cell_type": "markdown",
      "source": [
        "converted unit price column to float"
      ],
      "metadata": {
        "id": "lAqwuRM9aGpd"
      }
    },
    {
      "cell_type": "code",
      "source": [
        "df['Invoice ID']=df['Invoice ID'].astype('category')\n",
        "df['Invoice ID'].head()"
      ],
      "metadata": {
        "colab": {
          "base_uri": "https://localhost:8080/"
        },
        "id": "3H3evnL8pBXs",
        "outputId": "72f862b1-d88d-4260-958e-ead0a7f2254d"
      },
      "execution_count": null,
      "outputs": [
        {
          "output_type": "execute_result",
          "data": {
            "text/plain": [
              "0    750-67-8428\n",
              "1    226-31-3081\n",
              "2    631-41-3108\n",
              "3    123-19-1176\n",
              "4    373-73-7910\n",
              "Name: Invoice ID, dtype: category\n",
              "Categories (989, object): ['101-17-6199', '101-81-4070', '102-06-2002', '102-77-2261', ...,\n",
              "                           '895-03-6665', '895-66-0685', '896-34-0956', '898-04-2717']"
            ]
          },
          "metadata": {},
          "execution_count": 33
        }
      ]
    },
    {
      "cell_type": "markdown",
      "source": [
        "converted invoice id colum o category,because his is not numerical, no order in it."
      ],
      "metadata": {
        "id": "ipT-8jH2aMUp"
      }
    },
    {
      "cell_type": "code",
      "source": [
        "import datetime"
      ],
      "metadata": {
        "id": "7vTMLaQpadqv"
      },
      "execution_count": null,
      "outputs": []
    },
    {
      "cell_type": "markdown",
      "source": [
        "datetime library imported to change date,time columns"
      ],
      "metadata": {
        "id": "D85Tdk2KaaUG"
      }
    },
    {
      "cell_type": "code",
      "source": [
        "df['Time']=pd.to_datetime(df['Time'], format='%H:%M:%S')"
      ],
      "metadata": {
        "id": "_AlVwXOIatJ-"
      },
      "execution_count": null,
      "outputs": []
    },
    {
      "cell_type": "markdown",
      "source": [
        "time colum converted to datetime format as hours,minutes,seconds"
      ],
      "metadata": {
        "id": "odgRNtJEahXx"
      }
    },
    {
      "cell_type": "code",
      "source": [
        "df['Time'].head()"
      ],
      "metadata": {
        "colab": {
          "base_uri": "https://localhost:8080/"
        },
        "id": "yRrelGvPa3T4",
        "outputId": "c85b54fc-ccb2-49fd-a247-2de1be8f832f"
      },
      "execution_count": null,
      "outputs": [
        {
          "output_type": "execute_result",
          "data": {
            "text/plain": [
              "0   1900-01-01 13:08:00\n",
              "1   1900-01-01 10:29:00\n",
              "2   1900-01-01 13:23:00\n",
              "3   1900-01-01 20:33:00\n",
              "4   1900-01-01 10:37:00\n",
              "Name: Time, dtype: datetime64[ns]"
            ]
          },
          "metadata": {},
          "execution_count": 16
        }
      ]
    },
    {
      "cell_type": "markdown",
      "source": [
        "check if converted or not,here defaut it takes date as 1900-01-01, we dont need this, we have original date column"
      ],
      "metadata": {
        "id": "n4cyn9gDao69"
      }
    },
    {
      "cell_type": "code",
      "source": [
        "df.info()"
      ],
      "metadata": {
        "id": "V1z7l1cXLVMP",
        "colab": {
          "base_uri": "https://localhost:8080/"
        },
        "outputId": "d60b00e5-4cbc-45fe-cd6c-cd6faec5eecf"
      },
      "execution_count": null,
      "outputs": [
        {
          "output_type": "stream",
          "name": "stdout",
          "text": [
            "<class 'pandas.core.frame.DataFrame'>\n",
            "Int64Index: 989 entries, 0 to 999\n",
            "Data columns (total 20 columns):\n",
            " #   Column                   Non-Null Count  Dtype         \n",
            "---  ------                   --------------  -----         \n",
            " 0   Invoice ID               989 non-null    category      \n",
            " 1   Branch                   989 non-null    category      \n",
            " 2   city code                989 non-null    category      \n",
            " 3   Customer type            989 non-null    category      \n",
            " 4   Gender                   989 non-null    category      \n",
            " 5   Product code             989 non-null    category      \n",
            " 6   Unit price               981 non-null    float64       \n",
            " 7   Quantity                 989 non-null    int64         \n",
            " 8   Tax 5%                   989 non-null    float64       \n",
            " 9   Total                    989 non-null    float64       \n",
            " 10  Date                     989 non-null    datetime64[ns]\n",
            " 11  Time                     989 non-null    datetime64[ns]\n",
            " 12  Payment                  989 non-null    category      \n",
            " 13  cogs                     989 non-null    float64       \n",
            " 14  gross margin percentage  989 non-null    float64       \n",
            " 15  gross income             989 non-null    float64       \n",
            " 16  Rating                   989 non-null    float64       \n",
            " 17  hour                     989 non-null    int64         \n",
            " 18  day                      989 non-null    int64         \n",
            " 19  week                     989 non-null    object        \n",
            "dtypes: category(7), datetime64[ns](2), float64(7), int64(3), object(1)\n",
            "memory usage: 156.8+ KB\n"
          ]
        }
      ]
    },
    {
      "cell_type": "markdown",
      "source": [
        "checked all column with its data types, null values,how many rows"
      ],
      "metadata": {
        "id": "-pmVBPMva2iz"
      }
    },
    {
      "cell_type": "code",
      "source": [
        "df['hour']=df['Time'].dt.hour\n",
        "df['hour'].head()"
      ],
      "metadata": {
        "colab": {
          "base_uri": "https://localhost:8080/"
        },
        "id": "ZB4aM9uEfO-k",
        "outputId": "c27642d9-9250-45a0-aa99-df630f0c5a1e"
      },
      "execution_count": null,
      "outputs": [
        {
          "output_type": "execute_result",
          "data": {
            "text/plain": [
              "0    13\n",
              "1    10\n",
              "2    13\n",
              "3    20\n",
              "4    10\n",
              "Name: hour, dtype: int64"
            ]
          },
          "metadata": {},
          "execution_count": 35
        }
      ]
    },
    {
      "cell_type": "markdown",
      "source": [
        "created hour column from time column, because we have to deal with hour only for trend relation."
      ],
      "metadata": {
        "id": "wbgU0ptTbAPy"
      }
    },
    {
      "cell_type": "code",
      "source": [
        "df.hour.isnull()"
      ],
      "metadata": {
        "colab": {
          "base_uri": "https://localhost:8080/"
        },
        "id": "pO_1DwGvfPBb",
        "outputId": "fabe76cc-680b-4217-9ab5-db7712a69440"
      },
      "execution_count": null,
      "outputs": [
        {
          "output_type": "execute_result",
          "data": {
            "text/plain": [
              "0      False\n",
              "1      False\n",
              "2      False\n",
              "3      False\n",
              "4      False\n",
              "       ...  \n",
              "995    False\n",
              "996    False\n",
              "997    False\n",
              "998    False\n",
              "999    False\n",
              "Name: hour, Length: 989, dtype: bool"
            ]
          },
          "metadata": {},
          "execution_count": 19
        }
      ]
    },
    {
      "cell_type": "code",
      "source": [
        "df['day']=df['Date'].dt.day\n",
        "df['day'].head()"
      ],
      "metadata": {
        "colab": {
          "base_uri": "https://localhost:8080/"
        },
        "id": "aPmeXUT3fPUe",
        "outputId": "28fabc67-4bc0-4bef-b869-bcab1e437dc3"
      },
      "execution_count": null,
      "outputs": [
        {
          "output_type": "execute_result",
          "data": {
            "text/plain": [
              "0     5\n",
              "1     8\n",
              "2     3\n",
              "3    27\n",
              "4     8\n",
              "Name: day, dtype: int64"
            ]
          },
          "metadata": {},
          "execution_count": 20
        }
      ]
    },
    {
      "cell_type": "markdown",
      "source": [
        "created new day column"
      ],
      "metadata": {
        "id": "FleWzjzybNDZ"
      }
    },
    {
      "cell_type": "code",
      "source": [
        "df['Date'].head()"
      ],
      "metadata": {
        "colab": {
          "base_uri": "https://localhost:8080/"
        },
        "id": "DdDhACXLi9Wc",
        "outputId": "7074485b-a28c-419a-f788-04933aad4aeb"
      },
      "execution_count": null,
      "outputs": [
        {
          "output_type": "execute_result",
          "data": {
            "text/plain": [
              "0   2019-01-05\n",
              "1   2019-03-08\n",
              "2   2019-03-03\n",
              "3   2019-01-27\n",
              "4   2019-02-08\n",
              "Name: Date, dtype: datetime64[ns]"
            ]
          },
          "metadata": {},
          "execution_count": 21
        }
      ]
    },
    {
      "cell_type": "markdown",
      "source": [
        "checking values of date column"
      ],
      "metadata": {
        "id": "j-bnTO1rbYXo"
      }
    },
    {
      "cell_type": "code",
      "source": [
        "from datetime import date\n",
        "import calendar\n",
        "df['week']=df['Date'].dt.day_name()\n",
        "df['week'].head()"
      ],
      "metadata": {
        "colab": {
          "base_uri": "https://localhost:8080/"
        },
        "id": "HFE10B8PhIWf",
        "outputId": "f6ee7084-edd4-487f-abaf-5538224c150c"
      },
      "execution_count": null,
      "outputs": [
        {
          "output_type": "execute_result",
          "data": {
            "text/plain": [
              "0    Saturday\n",
              "1      Friday\n",
              "2      Sunday\n",
              "3      Sunday\n",
              "4      Friday\n",
              "Name: week, dtype: object"
            ]
          },
          "metadata": {},
          "execution_count": 22
        }
      ]
    },
    {
      "cell_type": "markdown",
      "source": [
        "we imported date library from date time.we created new column of week for week of the day from date column"
      ],
      "metadata": {
        "id": "ttkBgUD5bcJ1"
      }
    },
    {
      "cell_type": "code",
      "source": [
        "df.dropna(axis=0)"
      ],
      "metadata": {
        "colab": {
          "base_uri": "https://localhost:8080/",
          "height": 870
        },
        "id": "1bI2rvrFcnbk",
        "outputId": "f5135175-4d17-4265-d340-ebb48fe02bcc"
      },
      "execution_count": null,
      "outputs": [
        {
          "output_type": "execute_result",
          "data": {
            "text/plain": [
              "      Invoice ID Branch city code  Customer type  Gender Product code  \\\n",
              "0    750-67-8428      A        CT1        Member  Female          PD1   \n",
              "1    226-31-3081      C        CT3        Normal  Female          PD2   \n",
              "2    631-41-3108      A        CT1        Normal    Male          PD3   \n",
              "3    123-19-1176      A        CT1        Member    Male          PD1   \n",
              "4    373-73-7910      A        CT1        Normal    Male          PD4   \n",
              "..           ...    ...        ...           ...     ...          ...   \n",
              "995  233-67-5758      C        CT3        Normal    Male          PD1   \n",
              "996  303-96-2227      B        CT9        Normal  Female          PD3   \n",
              "997  727-02-1313      A        CT1        Member    Male          PD5   \n",
              "998  347-56-2442      A        CT1        Normal    Male          PD3   \n",
              "999  849-09-3807      A        CT1        Member  Female          PD6   \n",
              "\n",
              "     Unit price  Quantity   Tax 5%      Total       Date                Time  \\\n",
              "0         74.69         7  26.1415   548.9715 2019-01-05 1900-01-01 13:08:00   \n",
              "1         15.28         5   3.8200    80.2200 2019-03-08 1900-01-01 10:29:00   \n",
              "2         46.33         7  16.2155   340.5255 2019-03-03 1900-01-01 13:23:00   \n",
              "3         58.22         8  23.2880   489.0480 2019-01-27 1900-01-01 20:33:00   \n",
              "4         86.31         7  30.2085   634.3785 2019-02-08 1900-01-01 10:37:00   \n",
              "..          ...       ...      ...        ...        ...                 ...   \n",
              "995       40.35         1   2.0175    42.3675 2019-01-29 1900-01-01 13:46:00   \n",
              "996       97.38        10  48.6900  1022.4900 2019-03-02 1900-01-01 17:16:00   \n",
              "997       31.84         1   1.5920    33.4320 2019-02-09 1900-01-01 13:22:00   \n",
              "998       65.82         1   3.2910    69.1110 2019-02-22 1900-01-01 15:33:00   \n",
              "999       88.34         7  30.9190   649.2990 2019-02-18 1900-01-01 13:28:00   \n",
              "\n",
              "         Payment    cogs  gross margin percentage  gross income  Rating  hour  \\\n",
              "0        Ewallet  522.83                 4.761905       26.1415     9.1    13   \n",
              "1           Cash   76.40                 4.761905        3.8200     9.6    10   \n",
              "2    Credit card  324.31                 4.761905       16.2155     7.4    13   \n",
              "3        Ewallet  465.76                 4.761905       23.2880     8.4    20   \n",
              "4        Ewallet  604.17                 4.761905       30.2085     5.3    10   \n",
              "..           ...     ...                      ...           ...     ...   ...   \n",
              "995      Ewallet   40.35                 4.761905        2.0175     6.2    13   \n",
              "996      Ewallet  973.80                 4.761905       48.6900     4.4    17   \n",
              "997         Cash   31.84                 4.761905        1.5920     7.7    13   \n",
              "998         Cash   65.82                 4.761905        3.2910     4.1    15   \n",
              "999         Cash  618.38                 4.761905       30.9190     6.6    13   \n",
              "\n",
              "     day      week  \n",
              "0      5  Saturday  \n",
              "1      8    Friday  \n",
              "2      3    Sunday  \n",
              "3     27    Sunday  \n",
              "4      8    Friday  \n",
              "..   ...       ...  \n",
              "995   29   Tuesday  \n",
              "996    2  Saturday  \n",
              "997    9  Saturday  \n",
              "998   22    Friday  \n",
              "999   18    Monday  \n",
              "\n",
              "[981 rows x 20 columns]"
            ],
            "text/html": [
              "\n",
              "  <div id=\"df-6c985131-3093-470a-bfde-849f2fbefe31\">\n",
              "    <div class=\"colab-df-container\">\n",
              "      <div>\n",
              "<style scoped>\n",
              "    .dataframe tbody tr th:only-of-type {\n",
              "        vertical-align: middle;\n",
              "    }\n",
              "\n",
              "    .dataframe tbody tr th {\n",
              "        vertical-align: top;\n",
              "    }\n",
              "\n",
              "    .dataframe thead th {\n",
              "        text-align: right;\n",
              "    }\n",
              "</style>\n",
              "<table border=\"1\" class=\"dataframe\">\n",
              "  <thead>\n",
              "    <tr style=\"text-align: right;\">\n",
              "      <th></th>\n",
              "      <th>Invoice ID</th>\n",
              "      <th>Branch</th>\n",
              "      <th>city code</th>\n",
              "      <th>Customer type</th>\n",
              "      <th>Gender</th>\n",
              "      <th>Product code</th>\n",
              "      <th>Unit price</th>\n",
              "      <th>Quantity</th>\n",
              "      <th>Tax 5%</th>\n",
              "      <th>Total</th>\n",
              "      <th>Date</th>\n",
              "      <th>Time</th>\n",
              "      <th>Payment</th>\n",
              "      <th>cogs</th>\n",
              "      <th>gross margin percentage</th>\n",
              "      <th>gross income</th>\n",
              "      <th>Rating</th>\n",
              "      <th>hour</th>\n",
              "      <th>day</th>\n",
              "      <th>week</th>\n",
              "    </tr>\n",
              "  </thead>\n",
              "  <tbody>\n",
              "    <tr>\n",
              "      <th>0</th>\n",
              "      <td>750-67-8428</td>\n",
              "      <td>A</td>\n",
              "      <td>CT1</td>\n",
              "      <td>Member</td>\n",
              "      <td>Female</td>\n",
              "      <td>PD1</td>\n",
              "      <td>74.69</td>\n",
              "      <td>7</td>\n",
              "      <td>26.1415</td>\n",
              "      <td>548.9715</td>\n",
              "      <td>2019-01-05</td>\n",
              "      <td>1900-01-01 13:08:00</td>\n",
              "      <td>Ewallet</td>\n",
              "      <td>522.83</td>\n",
              "      <td>4.761905</td>\n",
              "      <td>26.1415</td>\n",
              "      <td>9.1</td>\n",
              "      <td>13</td>\n",
              "      <td>5</td>\n",
              "      <td>Saturday</td>\n",
              "    </tr>\n",
              "    <tr>\n",
              "      <th>1</th>\n",
              "      <td>226-31-3081</td>\n",
              "      <td>C</td>\n",
              "      <td>CT3</td>\n",
              "      <td>Normal</td>\n",
              "      <td>Female</td>\n",
              "      <td>PD2</td>\n",
              "      <td>15.28</td>\n",
              "      <td>5</td>\n",
              "      <td>3.8200</td>\n",
              "      <td>80.2200</td>\n",
              "      <td>2019-03-08</td>\n",
              "      <td>1900-01-01 10:29:00</td>\n",
              "      <td>Cash</td>\n",
              "      <td>76.40</td>\n",
              "      <td>4.761905</td>\n",
              "      <td>3.8200</td>\n",
              "      <td>9.6</td>\n",
              "      <td>10</td>\n",
              "      <td>8</td>\n",
              "      <td>Friday</td>\n",
              "    </tr>\n",
              "    <tr>\n",
              "      <th>2</th>\n",
              "      <td>631-41-3108</td>\n",
              "      <td>A</td>\n",
              "      <td>CT1</td>\n",
              "      <td>Normal</td>\n",
              "      <td>Male</td>\n",
              "      <td>PD3</td>\n",
              "      <td>46.33</td>\n",
              "      <td>7</td>\n",
              "      <td>16.2155</td>\n",
              "      <td>340.5255</td>\n",
              "      <td>2019-03-03</td>\n",
              "      <td>1900-01-01 13:23:00</td>\n",
              "      <td>Credit card</td>\n",
              "      <td>324.31</td>\n",
              "      <td>4.761905</td>\n",
              "      <td>16.2155</td>\n",
              "      <td>7.4</td>\n",
              "      <td>13</td>\n",
              "      <td>3</td>\n",
              "      <td>Sunday</td>\n",
              "    </tr>\n",
              "    <tr>\n",
              "      <th>3</th>\n",
              "      <td>123-19-1176</td>\n",
              "      <td>A</td>\n",
              "      <td>CT1</td>\n",
              "      <td>Member</td>\n",
              "      <td>Male</td>\n",
              "      <td>PD1</td>\n",
              "      <td>58.22</td>\n",
              "      <td>8</td>\n",
              "      <td>23.2880</td>\n",
              "      <td>489.0480</td>\n",
              "      <td>2019-01-27</td>\n",
              "      <td>1900-01-01 20:33:00</td>\n",
              "      <td>Ewallet</td>\n",
              "      <td>465.76</td>\n",
              "      <td>4.761905</td>\n",
              "      <td>23.2880</td>\n",
              "      <td>8.4</td>\n",
              "      <td>20</td>\n",
              "      <td>27</td>\n",
              "      <td>Sunday</td>\n",
              "    </tr>\n",
              "    <tr>\n",
              "      <th>4</th>\n",
              "      <td>373-73-7910</td>\n",
              "      <td>A</td>\n",
              "      <td>CT1</td>\n",
              "      <td>Normal</td>\n",
              "      <td>Male</td>\n",
              "      <td>PD4</td>\n",
              "      <td>86.31</td>\n",
              "      <td>7</td>\n",
              "      <td>30.2085</td>\n",
              "      <td>634.3785</td>\n",
              "      <td>2019-02-08</td>\n",
              "      <td>1900-01-01 10:37:00</td>\n",
              "      <td>Ewallet</td>\n",
              "      <td>604.17</td>\n",
              "      <td>4.761905</td>\n",
              "      <td>30.2085</td>\n",
              "      <td>5.3</td>\n",
              "      <td>10</td>\n",
              "      <td>8</td>\n",
              "      <td>Friday</td>\n",
              "    </tr>\n",
              "    <tr>\n",
              "      <th>...</th>\n",
              "      <td>...</td>\n",
              "      <td>...</td>\n",
              "      <td>...</td>\n",
              "      <td>...</td>\n",
              "      <td>...</td>\n",
              "      <td>...</td>\n",
              "      <td>...</td>\n",
              "      <td>...</td>\n",
              "      <td>...</td>\n",
              "      <td>...</td>\n",
              "      <td>...</td>\n",
              "      <td>...</td>\n",
              "      <td>...</td>\n",
              "      <td>...</td>\n",
              "      <td>...</td>\n",
              "      <td>...</td>\n",
              "      <td>...</td>\n",
              "      <td>...</td>\n",
              "      <td>...</td>\n",
              "      <td>...</td>\n",
              "    </tr>\n",
              "    <tr>\n",
              "      <th>995</th>\n",
              "      <td>233-67-5758</td>\n",
              "      <td>C</td>\n",
              "      <td>CT3</td>\n",
              "      <td>Normal</td>\n",
              "      <td>Male</td>\n",
              "      <td>PD1</td>\n",
              "      <td>40.35</td>\n",
              "      <td>1</td>\n",
              "      <td>2.0175</td>\n",
              "      <td>42.3675</td>\n",
              "      <td>2019-01-29</td>\n",
              "      <td>1900-01-01 13:46:00</td>\n",
              "      <td>Ewallet</td>\n",
              "      <td>40.35</td>\n",
              "      <td>4.761905</td>\n",
              "      <td>2.0175</td>\n",
              "      <td>6.2</td>\n",
              "      <td>13</td>\n",
              "      <td>29</td>\n",
              "      <td>Tuesday</td>\n",
              "    </tr>\n",
              "    <tr>\n",
              "      <th>996</th>\n",
              "      <td>303-96-2227</td>\n",
              "      <td>B</td>\n",
              "      <td>CT9</td>\n",
              "      <td>Normal</td>\n",
              "      <td>Female</td>\n",
              "      <td>PD3</td>\n",
              "      <td>97.38</td>\n",
              "      <td>10</td>\n",
              "      <td>48.6900</td>\n",
              "      <td>1022.4900</td>\n",
              "      <td>2019-03-02</td>\n",
              "      <td>1900-01-01 17:16:00</td>\n",
              "      <td>Ewallet</td>\n",
              "      <td>973.80</td>\n",
              "      <td>4.761905</td>\n",
              "      <td>48.6900</td>\n",
              "      <td>4.4</td>\n",
              "      <td>17</td>\n",
              "      <td>2</td>\n",
              "      <td>Saturday</td>\n",
              "    </tr>\n",
              "    <tr>\n",
              "      <th>997</th>\n",
              "      <td>727-02-1313</td>\n",
              "      <td>A</td>\n",
              "      <td>CT1</td>\n",
              "      <td>Member</td>\n",
              "      <td>Male</td>\n",
              "      <td>PD5</td>\n",
              "      <td>31.84</td>\n",
              "      <td>1</td>\n",
              "      <td>1.5920</td>\n",
              "      <td>33.4320</td>\n",
              "      <td>2019-02-09</td>\n",
              "      <td>1900-01-01 13:22:00</td>\n",
              "      <td>Cash</td>\n",
              "      <td>31.84</td>\n",
              "      <td>4.761905</td>\n",
              "      <td>1.5920</td>\n",
              "      <td>7.7</td>\n",
              "      <td>13</td>\n",
              "      <td>9</td>\n",
              "      <td>Saturday</td>\n",
              "    </tr>\n",
              "    <tr>\n",
              "      <th>998</th>\n",
              "      <td>347-56-2442</td>\n",
              "      <td>A</td>\n",
              "      <td>CT1</td>\n",
              "      <td>Normal</td>\n",
              "      <td>Male</td>\n",
              "      <td>PD3</td>\n",
              "      <td>65.82</td>\n",
              "      <td>1</td>\n",
              "      <td>3.2910</td>\n",
              "      <td>69.1110</td>\n",
              "      <td>2019-02-22</td>\n",
              "      <td>1900-01-01 15:33:00</td>\n",
              "      <td>Cash</td>\n",
              "      <td>65.82</td>\n",
              "      <td>4.761905</td>\n",
              "      <td>3.2910</td>\n",
              "      <td>4.1</td>\n",
              "      <td>15</td>\n",
              "      <td>22</td>\n",
              "      <td>Friday</td>\n",
              "    </tr>\n",
              "    <tr>\n",
              "      <th>999</th>\n",
              "      <td>849-09-3807</td>\n",
              "      <td>A</td>\n",
              "      <td>CT1</td>\n",
              "      <td>Member</td>\n",
              "      <td>Female</td>\n",
              "      <td>PD6</td>\n",
              "      <td>88.34</td>\n",
              "      <td>7</td>\n",
              "      <td>30.9190</td>\n",
              "      <td>649.2990</td>\n",
              "      <td>2019-02-18</td>\n",
              "      <td>1900-01-01 13:28:00</td>\n",
              "      <td>Cash</td>\n",
              "      <td>618.38</td>\n",
              "      <td>4.761905</td>\n",
              "      <td>30.9190</td>\n",
              "      <td>6.6</td>\n",
              "      <td>13</td>\n",
              "      <td>18</td>\n",
              "      <td>Monday</td>\n",
              "    </tr>\n",
              "  </tbody>\n",
              "</table>\n",
              "<p>981 rows × 20 columns</p>\n",
              "</div>\n",
              "      <button class=\"colab-df-convert\" onclick=\"convertToInteractive('df-6c985131-3093-470a-bfde-849f2fbefe31')\"\n",
              "              title=\"Convert this dataframe to an interactive table.\"\n",
              "              style=\"display:none;\">\n",
              "        \n",
              "  <svg xmlns=\"http://www.w3.org/2000/svg\" height=\"24px\"viewBox=\"0 0 24 24\"\n",
              "       width=\"24px\">\n",
              "    <path d=\"M0 0h24v24H0V0z\" fill=\"none\"/>\n",
              "    <path d=\"M18.56 5.44l.94 2.06.94-2.06 2.06-.94-2.06-.94-.94-2.06-.94 2.06-2.06.94zm-11 1L8.5 8.5l.94-2.06 2.06-.94-2.06-.94L8.5 2.5l-.94 2.06-2.06.94zm10 10l.94 2.06.94-2.06 2.06-.94-2.06-.94-.94-2.06-.94 2.06-2.06.94z\"/><path d=\"M17.41 7.96l-1.37-1.37c-.4-.4-.92-.59-1.43-.59-.52 0-1.04.2-1.43.59L10.3 9.45l-7.72 7.72c-.78.78-.78 2.05 0 2.83L4 21.41c.39.39.9.59 1.41.59.51 0 1.02-.2 1.41-.59l7.78-7.78 2.81-2.81c.8-.78.8-2.07 0-2.86zM5.41 20L4 18.59l7.72-7.72 1.47 1.35L5.41 20z\"/>\n",
              "  </svg>\n",
              "      </button>\n",
              "      \n",
              "  <style>\n",
              "    .colab-df-container {\n",
              "      display:flex;\n",
              "      flex-wrap:wrap;\n",
              "      gap: 12px;\n",
              "    }\n",
              "\n",
              "    .colab-df-convert {\n",
              "      background-color: #E8F0FE;\n",
              "      border: none;\n",
              "      border-radius: 50%;\n",
              "      cursor: pointer;\n",
              "      display: none;\n",
              "      fill: #1967D2;\n",
              "      height: 32px;\n",
              "      padding: 0 0 0 0;\n",
              "      width: 32px;\n",
              "    }\n",
              "\n",
              "    .colab-df-convert:hover {\n",
              "      background-color: #E2EBFA;\n",
              "      box-shadow: 0px 1px 2px rgba(60, 64, 67, 0.3), 0px 1px 3px 1px rgba(60, 64, 67, 0.15);\n",
              "      fill: #174EA6;\n",
              "    }\n",
              "\n",
              "    [theme=dark] .colab-df-convert {\n",
              "      background-color: #3B4455;\n",
              "      fill: #D2E3FC;\n",
              "    }\n",
              "\n",
              "    [theme=dark] .colab-df-convert:hover {\n",
              "      background-color: #434B5C;\n",
              "      box-shadow: 0px 1px 3px 1px rgba(0, 0, 0, 0.15);\n",
              "      filter: drop-shadow(0px 1px 2px rgba(0, 0, 0, 0.3));\n",
              "      fill: #FFFFFF;\n",
              "    }\n",
              "  </style>\n",
              "\n",
              "      <script>\n",
              "        const buttonEl =\n",
              "          document.querySelector('#df-6c985131-3093-470a-bfde-849f2fbefe31 button.colab-df-convert');\n",
              "        buttonEl.style.display =\n",
              "          google.colab.kernel.accessAllowed ? 'block' : 'none';\n",
              "\n",
              "        async function convertToInteractive(key) {\n",
              "          const element = document.querySelector('#df-6c985131-3093-470a-bfde-849f2fbefe31');\n",
              "          const dataTable =\n",
              "            await google.colab.kernel.invokeFunction('convertToInteractive',\n",
              "                                                     [key], {});\n",
              "          if (!dataTable) return;\n",
              "\n",
              "          const docLinkHtml = 'Like what you see? Visit the ' +\n",
              "            '<a target=\"_blank\" href=https://colab.research.google.com/notebooks/data_table.ipynb>data table notebook</a>'\n",
              "            + ' to learn more about interactive tables.';\n",
              "          element.innerHTML = '';\n",
              "          dataTable['output_type'] = 'display_data';\n",
              "          await google.colab.output.renderOutput(dataTable, element);\n",
              "          const docLink = document.createElement('div');\n",
              "          docLink.innerHTML = docLinkHtml;\n",
              "          element.appendChild(docLink);\n",
              "        }\n",
              "      </script>\n",
              "    </div>\n",
              "  </div>\n",
              "  "
            ]
          },
          "metadata": {},
          "execution_count": 23
        }
      ]
    },
    {
      "cell_type": "markdown",
      "source": [
        "finally check null values & dropping null values will not effect data much.\n"
      ],
      "metadata": {
        "id": "1XKDyQnPbwRh"
      }
    },
    {
      "cell_type": "code",
      "source": [
        "df.info()"
      ],
      "metadata": {
        "colab": {
          "base_uri": "https://localhost:8080/"
        },
        "id": "lXD0sXg9ndEg",
        "outputId": "a111bdd6-08dd-4110-f310-2b5317ec7406"
      },
      "execution_count": null,
      "outputs": [
        {
          "output_type": "stream",
          "name": "stdout",
          "text": [
            "<class 'pandas.core.frame.DataFrame'>\n",
            "Int64Index: 989 entries, 0 to 999\n",
            "Data columns (total 20 columns):\n",
            " #   Column                   Non-Null Count  Dtype         \n",
            "---  ------                   --------------  -----         \n",
            " 0   Invoice ID               989 non-null    category      \n",
            " 1   Branch                   989 non-null    category      \n",
            " 2   city code                989 non-null    category      \n",
            " 3   Customer type            989 non-null    category      \n",
            " 4   Gender                   989 non-null    category      \n",
            " 5   Product code             989 non-null    category      \n",
            " 6   Unit price               981 non-null    float64       \n",
            " 7   Quantity                 989 non-null    int64         \n",
            " 8   Tax 5%                   989 non-null    float64       \n",
            " 9   Total                    989 non-null    float64       \n",
            " 10  Date                     989 non-null    datetime64[ns]\n",
            " 11  Time                     989 non-null    datetime64[ns]\n",
            " 12  Payment                  989 non-null    category      \n",
            " 13  cogs                     989 non-null    float64       \n",
            " 14  gross margin percentage  989 non-null    float64       \n",
            " 15  gross income             989 non-null    float64       \n",
            " 16  Rating                   989 non-null    float64       \n",
            " 17  hour                     989 non-null    int64         \n",
            " 18  day                      989 non-null    int64         \n",
            " 19  week                     989 non-null    object        \n",
            "dtypes: category(7), datetime64[ns](2), float64(7), int64(3), object(1)\n",
            "memory usage: 156.8+ KB\n"
          ]
        }
      ]
    },
    {
      "cell_type": "markdown",
      "source": [
        "finally check again all column data types,null values"
      ],
      "metadata": {
        "id": "d3F_29WXb0EL"
      }
    },
    {
      "cell_type": "code",
      "source": [
        "sales= df.drop(columns={'Time','day','Invoice ID','Tax 5%',})\n",
        "sales.head()"
      ],
      "metadata": {
        "colab": {
          "base_uri": "https://localhost:8080/",
          "height": 392
        },
        "id": "R44GJ_-jnh7g",
        "outputId": "c47a919c-a1d8-49fb-f33b-24f94a9d899b"
      },
      "execution_count": null,
      "outputs": [
        {
          "output_type": "execute_result",
          "data": {
            "text/plain": [
              "  Branch city code  Customer type  Gender Product code  Unit price  Quantity  \\\n",
              "0      A        CT1        Member  Female          PD1       74.69         7   \n",
              "1      C        CT3        Normal  Female          PD2       15.28         5   \n",
              "2      A        CT1        Normal    Male          PD3       46.33         7   \n",
              "3      A        CT1        Member    Male          PD1       58.22         8   \n",
              "4      A        CT1        Normal    Male          PD4       86.31         7   \n",
              "\n",
              "      Total       Date      Payment    cogs  gross margin percentage  \\\n",
              "0  548.9715 2019-01-05      Ewallet  522.83                 4.761905   \n",
              "1   80.2200 2019-03-08         Cash   76.40                 4.761905   \n",
              "2  340.5255 2019-03-03  Credit card  324.31                 4.761905   \n",
              "3  489.0480 2019-01-27      Ewallet  465.76                 4.761905   \n",
              "4  634.3785 2019-02-08      Ewallet  604.17                 4.761905   \n",
              "\n",
              "   gross income  Rating  hour      week  \n",
              "0       26.1415     9.1    13  Saturday  \n",
              "1        3.8200     9.6    10    Friday  \n",
              "2       16.2155     7.4    13    Sunday  \n",
              "3       23.2880     8.4    20    Sunday  \n",
              "4       30.2085     5.3    10    Friday  "
            ],
            "text/html": [
              "\n",
              "  <div id=\"df-fa5d7005-4619-45a9-855c-b648962f2f55\">\n",
              "    <div class=\"colab-df-container\">\n",
              "      <div>\n",
              "<style scoped>\n",
              "    .dataframe tbody tr th:only-of-type {\n",
              "        vertical-align: middle;\n",
              "    }\n",
              "\n",
              "    .dataframe tbody tr th {\n",
              "        vertical-align: top;\n",
              "    }\n",
              "\n",
              "    .dataframe thead th {\n",
              "        text-align: right;\n",
              "    }\n",
              "</style>\n",
              "<table border=\"1\" class=\"dataframe\">\n",
              "  <thead>\n",
              "    <tr style=\"text-align: right;\">\n",
              "      <th></th>\n",
              "      <th>Branch</th>\n",
              "      <th>city code</th>\n",
              "      <th>Customer type</th>\n",
              "      <th>Gender</th>\n",
              "      <th>Product code</th>\n",
              "      <th>Unit price</th>\n",
              "      <th>Quantity</th>\n",
              "      <th>Total</th>\n",
              "      <th>Date</th>\n",
              "      <th>Payment</th>\n",
              "      <th>cogs</th>\n",
              "      <th>gross margin percentage</th>\n",
              "      <th>gross income</th>\n",
              "      <th>Rating</th>\n",
              "      <th>hour</th>\n",
              "      <th>week</th>\n",
              "    </tr>\n",
              "  </thead>\n",
              "  <tbody>\n",
              "    <tr>\n",
              "      <th>0</th>\n",
              "      <td>A</td>\n",
              "      <td>CT1</td>\n",
              "      <td>Member</td>\n",
              "      <td>Female</td>\n",
              "      <td>PD1</td>\n",
              "      <td>74.69</td>\n",
              "      <td>7</td>\n",
              "      <td>548.9715</td>\n",
              "      <td>2019-01-05</td>\n",
              "      <td>Ewallet</td>\n",
              "      <td>522.83</td>\n",
              "      <td>4.761905</td>\n",
              "      <td>26.1415</td>\n",
              "      <td>9.1</td>\n",
              "      <td>13</td>\n",
              "      <td>Saturday</td>\n",
              "    </tr>\n",
              "    <tr>\n",
              "      <th>1</th>\n",
              "      <td>C</td>\n",
              "      <td>CT3</td>\n",
              "      <td>Normal</td>\n",
              "      <td>Female</td>\n",
              "      <td>PD2</td>\n",
              "      <td>15.28</td>\n",
              "      <td>5</td>\n",
              "      <td>80.2200</td>\n",
              "      <td>2019-03-08</td>\n",
              "      <td>Cash</td>\n",
              "      <td>76.40</td>\n",
              "      <td>4.761905</td>\n",
              "      <td>3.8200</td>\n",
              "      <td>9.6</td>\n",
              "      <td>10</td>\n",
              "      <td>Friday</td>\n",
              "    </tr>\n",
              "    <tr>\n",
              "      <th>2</th>\n",
              "      <td>A</td>\n",
              "      <td>CT1</td>\n",
              "      <td>Normal</td>\n",
              "      <td>Male</td>\n",
              "      <td>PD3</td>\n",
              "      <td>46.33</td>\n",
              "      <td>7</td>\n",
              "      <td>340.5255</td>\n",
              "      <td>2019-03-03</td>\n",
              "      <td>Credit card</td>\n",
              "      <td>324.31</td>\n",
              "      <td>4.761905</td>\n",
              "      <td>16.2155</td>\n",
              "      <td>7.4</td>\n",
              "      <td>13</td>\n",
              "      <td>Sunday</td>\n",
              "    </tr>\n",
              "    <tr>\n",
              "      <th>3</th>\n",
              "      <td>A</td>\n",
              "      <td>CT1</td>\n",
              "      <td>Member</td>\n",
              "      <td>Male</td>\n",
              "      <td>PD1</td>\n",
              "      <td>58.22</td>\n",
              "      <td>8</td>\n",
              "      <td>489.0480</td>\n",
              "      <td>2019-01-27</td>\n",
              "      <td>Ewallet</td>\n",
              "      <td>465.76</td>\n",
              "      <td>4.761905</td>\n",
              "      <td>23.2880</td>\n",
              "      <td>8.4</td>\n",
              "      <td>20</td>\n",
              "      <td>Sunday</td>\n",
              "    </tr>\n",
              "    <tr>\n",
              "      <th>4</th>\n",
              "      <td>A</td>\n",
              "      <td>CT1</td>\n",
              "      <td>Normal</td>\n",
              "      <td>Male</td>\n",
              "      <td>PD4</td>\n",
              "      <td>86.31</td>\n",
              "      <td>7</td>\n",
              "      <td>634.3785</td>\n",
              "      <td>2019-02-08</td>\n",
              "      <td>Ewallet</td>\n",
              "      <td>604.17</td>\n",
              "      <td>4.761905</td>\n",
              "      <td>30.2085</td>\n",
              "      <td>5.3</td>\n",
              "      <td>10</td>\n",
              "      <td>Friday</td>\n",
              "    </tr>\n",
              "  </tbody>\n",
              "</table>\n",
              "</div>\n",
              "      <button class=\"colab-df-convert\" onclick=\"convertToInteractive('df-fa5d7005-4619-45a9-855c-b648962f2f55')\"\n",
              "              title=\"Convert this dataframe to an interactive table.\"\n",
              "              style=\"display:none;\">\n",
              "        \n",
              "  <svg xmlns=\"http://www.w3.org/2000/svg\" height=\"24px\"viewBox=\"0 0 24 24\"\n",
              "       width=\"24px\">\n",
              "    <path d=\"M0 0h24v24H0V0z\" fill=\"none\"/>\n",
              "    <path d=\"M18.56 5.44l.94 2.06.94-2.06 2.06-.94-2.06-.94-.94-2.06-.94 2.06-2.06.94zm-11 1L8.5 8.5l.94-2.06 2.06-.94-2.06-.94L8.5 2.5l-.94 2.06-2.06.94zm10 10l.94 2.06.94-2.06 2.06-.94-2.06-.94-.94-2.06-.94 2.06-2.06.94z\"/><path d=\"M17.41 7.96l-1.37-1.37c-.4-.4-.92-.59-1.43-.59-.52 0-1.04.2-1.43.59L10.3 9.45l-7.72 7.72c-.78.78-.78 2.05 0 2.83L4 21.41c.39.39.9.59 1.41.59.51 0 1.02-.2 1.41-.59l7.78-7.78 2.81-2.81c.8-.78.8-2.07 0-2.86zM5.41 20L4 18.59l7.72-7.72 1.47 1.35L5.41 20z\"/>\n",
              "  </svg>\n",
              "      </button>\n",
              "      \n",
              "  <style>\n",
              "    .colab-df-container {\n",
              "      display:flex;\n",
              "      flex-wrap:wrap;\n",
              "      gap: 12px;\n",
              "    }\n",
              "\n",
              "    .colab-df-convert {\n",
              "      background-color: #E8F0FE;\n",
              "      border: none;\n",
              "      border-radius: 50%;\n",
              "      cursor: pointer;\n",
              "      display: none;\n",
              "      fill: #1967D2;\n",
              "      height: 32px;\n",
              "      padding: 0 0 0 0;\n",
              "      width: 32px;\n",
              "    }\n",
              "\n",
              "    .colab-df-convert:hover {\n",
              "      background-color: #E2EBFA;\n",
              "      box-shadow: 0px 1px 2px rgba(60, 64, 67, 0.3), 0px 1px 3px 1px rgba(60, 64, 67, 0.15);\n",
              "      fill: #174EA6;\n",
              "    }\n",
              "\n",
              "    [theme=dark] .colab-df-convert {\n",
              "      background-color: #3B4455;\n",
              "      fill: #D2E3FC;\n",
              "    }\n",
              "\n",
              "    [theme=dark] .colab-df-convert:hover {\n",
              "      background-color: #434B5C;\n",
              "      box-shadow: 0px 1px 3px 1px rgba(0, 0, 0, 0.15);\n",
              "      filter: drop-shadow(0px 1px 2px rgba(0, 0, 0, 0.3));\n",
              "      fill: #FFFFFF;\n",
              "    }\n",
              "  </style>\n",
              "\n",
              "      <script>\n",
              "        const buttonEl =\n",
              "          document.querySelector('#df-fa5d7005-4619-45a9-855c-b648962f2f55 button.colab-df-convert');\n",
              "        buttonEl.style.display =\n",
              "          google.colab.kernel.accessAllowed ? 'block' : 'none';\n",
              "\n",
              "        async function convertToInteractive(key) {\n",
              "          const element = document.querySelector('#df-fa5d7005-4619-45a9-855c-b648962f2f55');\n",
              "          const dataTable =\n",
              "            await google.colab.kernel.invokeFunction('convertToInteractive',\n",
              "                                                     [key], {});\n",
              "          if (!dataTable) return;\n",
              "\n",
              "          const docLinkHtml = 'Like what you see? Visit the ' +\n",
              "            '<a target=\"_blank\" href=https://colab.research.google.com/notebooks/data_table.ipynb>data table notebook</a>'\n",
              "            + ' to learn more about interactive tables.';\n",
              "          element.innerHTML = '';\n",
              "          dataTable['output_type'] = 'display_data';\n",
              "          await google.colab.output.renderOutput(dataTable, element);\n",
              "          const docLink = document.createElement('div');\n",
              "          docLink.innerHTML = docLinkHtml;\n",
              "          element.appendChild(docLink);\n",
              "        }\n",
              "      </script>\n",
              "    </div>\n",
              "  </div>\n",
              "  "
            ]
          },
          "metadata": {},
          "execution_count": 38
        }
      ]
    },
    {
      "cell_type": "markdown",
      "source": [
        "created new data frame called sales by dropping unneccasary columns such as time,day,invoice id, tax 5%.By dropping some columns will not effect dataset.\n"
      ],
      "metadata": {
        "id": "YY2Ytessb5qq"
      }
    },
    {
      "cell_type": "code",
      "source": [
        "sales.shape"
      ],
      "metadata": {
        "id": "L31ugKP6ompg",
        "colab": {
          "base_uri": "https://localhost:8080/"
        },
        "outputId": "1aaeffac-c4fd-4971-e81e-6ba0980e94d6"
      },
      "execution_count": null,
      "outputs": [
        {
          "output_type": "execute_result",
          "data": {
            "text/plain": [
              "(989, 16)"
            ]
          },
          "metadata": {},
          "execution_count": 39
        }
      ]
    },
    {
      "cell_type": "markdown",
      "source": [
        "checking of new dataframe sales rows and columns"
      ],
      "metadata": {
        "id": "TflCzBgPcLT5"
      }
    },
    {
      "cell_type": "code",
      "source": [
        "sales['Unit price'].shape"
      ],
      "metadata": {
        "colab": {
          "base_uri": "https://localhost:8080/"
        },
        "id": "L32FXCF2nD-h",
        "outputId": "4db4436f-c947-4f3e-cf96-be135f91d244"
      },
      "execution_count": null,
      "outputs": [
        {
          "output_type": "execute_result",
          "data": {
            "text/plain": [
              "(989,)"
            ]
          },
          "metadata": {},
          "execution_count": 41
        }
      ]
    },
    {
      "cell_type": "markdown",
      "source": [
        "Data cleaning part finished, now data is clean and ready for analysis"
      ],
      "metadata": {
        "id": "EWfU0hpdcQq9"
      }
    },
    {
      "cell_type": "markdown",
      "source": [
        "# Data Analysis"
      ],
      "metadata": {
        "id": "4jyIEhLacQn8"
      }
    },
    {
      "cell_type": "markdown",
      "source": [
        "# Part 1:\n",
        "## 1.Is your supermarket more popular with males or females?"
      ],
      "metadata": {
        "id": "uY9FNuLin2-R"
      }
    },
    {
      "cell_type": "code",
      "source": [
        "sales.Gender.value_counts()  # it gives count of each  category"
      ],
      "metadata": {
        "colab": {
          "base_uri": "https://localhost:8080/"
        },
        "id": "nPpA9R2un0V8",
        "outputId": "9f6a6fa7-b674-4aab-e6cb-d2d3b2864491"
      },
      "execution_count": null,
      "outputs": [
        {
          "output_type": "execute_result",
          "data": {
            "text/plain": [
              "Female    497\n",
              "Male      492\n",
              "Name: Gender, dtype: int64"
            ]
          },
          "metadata": {},
          "execution_count": 47
        }
      ]
    },
    {
      "cell_type": "markdown",
      "source": [
        "We have 497 females and 492 Males.So,Supermarket is popular with females than males."
      ],
      "metadata": {
        "id": "XJaPQDNdoj5h"
      }
    },
    {
      "cell_type": "markdown",
      "source": [
        "## 2.What does the customer rating look like and can you also comment on its skewness?"
      ],
      "metadata": {
        "id": "Q3U1VIl7o7Ml"
      }
    },
    {
      "cell_type": "code",
      "source": [
        "import seaborn as sns\n",
        "import matplotlib.pyplot as plt"
      ],
      "metadata": {
        "id": "UWWjCecmn0_X"
      },
      "execution_count": null,
      "outputs": []
    },
    {
      "cell_type": "code",
      "source": [
        "sns.distplot(a=sales.Rating, color='red',\n",
        "             hist_kws={\"edgecolor\": 'white'})  # it will show skewness,in histogram"
      ],
      "metadata": {
        "colab": {
          "base_uri": "https://localhost:8080/",
          "height": 351
        },
        "id": "tVAVjUxdn1BD",
        "outputId": "f10c8bf1-bef0-41f5-fa02-73e57903e018"
      },
      "execution_count": null,
      "outputs": [
        {
          "output_type": "stream",
          "name": "stderr",
          "text": [
            "/usr/local/lib/python3.7/dist-packages/seaborn/distributions.py:2619: FutureWarning: `distplot` is a deprecated function and will be removed in a future version. Please adapt your code to use either `displot` (a figure-level function with similar flexibility) or `histplot` (an axes-level function for histograms).\n",
            "  warnings.warn(msg, FutureWarning)\n"
          ]
        },
        {
          "output_type": "execute_result",
          "data": {
            "text/plain": [
              "<matplotlib.axes._subplots.AxesSubplot at 0x7f71bfdca210>"
            ]
          },
          "metadata": {},
          "execution_count": 49
        },
        {
          "output_type": "display_data",
          "data": {
            "text/plain": [
              "<Figure size 432x288 with 1 Axes>"
            ],
            "image/png": "[encoded data removed]"
          },
          "metadata": {
            "needs_background": "light"
          }
        }
      ]
    },
    {
      "cell_type": "markdown",
      "source": [
        "Rating frequency is more between 5 and 6.It is symmetric based on skewness "
      ],
      "metadata": {
        "id": "37iKangEpuy2"
      }
    },
    {
      "cell_type": "markdown",
      "source": [
        "## 3.What can you say about the aggregate sales across the branches?"
      ],
      "metadata": {
        "id": "IL7i2axwp-Pg"
      }
    },
    {
      "cell_type": "code",
      "source": [
        "# Creating plot\n",
        "#fig = plt.figure(figsize=(5,5))\n",
        "plt.bar(sales['Branch'],sales['Total']) # plotting branch n sales\n",
        "plt.title(\"total sales on 3 branches\")\n",
        "plt.xlabel(\"branches count\")\n",
        "plt.ylabel(\"total sales\")\n",
        "# show plot\n",
        "plt.show()"
      ],
      "metadata": {
        "colab": {
          "base_uri": "https://localhost:8080/",
          "height": 295
        },
        "id": "0VxoYFYkn1Eq",
        "outputId": "b8e64907-004c-469d-a783-f2e20fe976cd"
      },
      "execution_count": null,
      "outputs": [
        {
          "output_type": "display_data",
          "data": {
            "text/plain": [
              "<Figure size 432x288 with 1 Axes>"
            ],
            "image/png": "[encoded data removed]"
          },
          "metadata": {
            "needs_background": "light"
          }
        }
      ]
    },
    {
      "cell_type": "markdown",
      "source": [
        "Branch B has less total sales than other branches A and C."
      ],
      "metadata": {
        "id": "fcU-srcHxQBG"
      }
    },
    {
      "cell_type": "markdown",
      "source": [
        "##4.Which is the most popular payment method used by customers?"
      ],
      "metadata": {
        "id": "7oW40AlXsjs-"
      }
    },
    {
      "cell_type": "code",
      "source": [
        "#fig for payment countplot for maximun custumers usiing which type of payment\n",
        "plt.figure(figsize=(10,5)) # for size of plot\n",
        "sns.countplot(x=sales['Payment'], data=sales) # x axis is am column.\n",
        "plt.title('popular payment methods used by customers')\n",
        "plt.xlabel('payment type')  # x -axis name\n",
        "plt.ylabel('total count ')\n",
        "plt.show()"
      ],
      "metadata": {
        "colab": {
          "base_uri": "https://localhost:8080/",
          "height": 350
        },
        "id": "Ocmf7lyhn1Gg",
        "outputId": "fdae2250-266b-4550-f838-1df4fbb696f4"
      },
      "execution_count": null,
      "outputs": [
        {
          "output_type": "display_data",
          "data": {
            "text/plain": [
              "<Figure size 720x360 with 1 Axes>"
            ],
            "image/png": "[encoded data removed]"
          },
          "metadata": {
            "needs_background": "light"
          }
        }
      ]
    },
    {
      "cell_type": "markdown",
      "source": [
        "Credit card has less count than cash. cash is almost similar to Ewallet.So Ewallet and Cash are wo 2 popular methods used by customers."
      ],
      "metadata": {
        "id": "DymL_JxzzD2Q"
      }
    },
    {
      "cell_type": "markdown",
      "source": [
        "#Part-2:\n",
        "\n",
        "## 1.Does gross income affect customer ratings?"
      ],
      "metadata": {
        "id": "287fb8kdsoAE"
      }
    },
    {
      "cell_type": "code",
      "source": [
        "# income vs rating\n",
        "sns.scatterplot(x = \"gross income\", y = \"Rating\",  alpha=.8, data = sales) # to see relation between gross income and rating\n",
        "  \n",
        "# To show the plot\n",
        "plt.show()"
      ],
      "metadata": {
        "colab": {
          "base_uri": "https://localhost:8080/",
          "height": 279
        },
        "id": "lDFnARcQn1Jn",
        "outputId": "24e643f2-19d3-43c1-dab9-86297bae9b4a"
      },
      "execution_count": null,
      "outputs": [
        {
          "output_type": "display_data",
          "data": {
            "text/plain": [
              "<Figure size 432x288 with 1 Axes>"
            ],
            "image/png": "[encoded data removed]"
          },
          "metadata": {
            "needs_background": "light"
          }
        }
      ]
    },
    {
      "cell_type": "markdown",
      "source": [
        "Here, it is not showing relation between gross income & rating."
      ],
      "metadata": {
        "id": "83AVlte-1zaV"
      }
    },
    {
      "cell_type": "markdown",
      "source": [
        "## 2.Which is the most profitable branch?"
      ],
      "metadata": {
        "id": "JTj8SDVMtbse"
      }
    },
    {
      "cell_type": "code",
      "source": [
        "# profitable branch on bases of gross income of that branch by  bar plot\n",
        "fig = plt.figure(figsize=(10,5))  # for size\n",
        "plt.bar(sales['Branch'], sales['gross income']) # comparing branch category with gross income of that branch\n",
        "plt.title(\"most profitable branch\")\n",
        "plt.xlabel(\"branch\")\n",
        "plt.ylabel(\"gross income\")\n",
        "# show plot\n",
        "plt.show()"
      ],
      "metadata": {
        "colab": {
          "base_uri": "https://localhost:8080/",
          "height": 350
        },
        "id": "gBR1A8D8n1Mw",
        "outputId": "edecc9dd-6ff1-4ce6-87a6-4adb6e23e693"
      },
      "execution_count": null,
      "outputs": [
        {
          "output_type": "display_data",
          "data": {
            "text/plain": [
              "<Figure size 720x360 with 1 Axes>"
            ],
            "image/png": "[encoded data removed]"
          },
          "metadata": {
            "needs_background": "light"
          }
        }
      ]
    },
    {
      "cell_type": "markdown",
      "source": [
        "A and C are more profitable than B Branch"
      ],
      "metadata": {
        "id": "CY_chBj68a4H"
      }
    },
    {
      "cell_type": "markdown",
      "source": [
        "## 3.Create a boxplot between Gender and Gross income and explain the results?"
      ],
      "metadata": {
        "id": "4ryZl8wB8gSX"
      }
    },
    {
      "cell_type": "code",
      "source": [
        "# 2 boxplots for gross income with male and female\n",
        "sns.boxplot(x='Gender',y='gross income',data=sales)"
      ],
      "metadata": {
        "colab": {
          "base_uri": "https://localhost:8080/",
          "height": 296
        },
        "id": "fuDAURsb_xYb",
        "outputId": "9b98c52c-5025-45e3-d7e7-7e3240f303e6"
      },
      "execution_count": null,
      "outputs": [
        {
          "output_type": "execute_result",
          "data": {
            "text/plain": [
              "<matplotlib.axes._subplots.AxesSubplot at 0x7f7193eded10>"
            ]
          },
          "metadata": {},
          "execution_count": 78
        },
        {
          "output_type": "display_data",
          "data": {
            "text/plain": [
              "<Figure size 432x288 with 1 Axes>"
            ],
            "image/png": "[encoded data removed]"
          },
          "metadata": {
            "needs_background": "light"
          }
        }
      ]
    },
    {
      "cell_type": "markdown",
      "source": [
        "here, when we observe female and male median values in box plots. female have slight higher valve.so because of females there is high gross income for supermarket comparing o males.Here outliers also present in both males and females data."
      ],
      "metadata": {
        "id": "odxsw_uZEPAr"
      }
    },
    {
      "cell_type": "markdown",
      "source": [
        "## 4.Can you see any time trend in gross income?"
      ],
      "metadata": {
        "id": "u92jLtVdEmq3"
      }
    },
    {
      "cell_type": "code",
      "source": [
        "# line plot for time trend vs gross income\n",
        "plt.figure(figsize=(20,5))  # for bigger size\n",
        "sns.lineplot( x= \"hour\",\n",
        "             y = \"gross income\",hue=\"week\",\n",
        "             data = sales)  #  we are checking relation for which time of day gross income is more"
      ],
      "metadata": {
        "colab": {
          "base_uri": "https://localhost:8080/",
          "height": 371
        },
        "id": "oG2ITCL7s7ET",
        "outputId": "85e799f0-7e50-4b3b-bd0f-9bea6faa05ce"
      },
      "execution_count": null,
      "outputs": [
        {
          "output_type": "execute_result",
          "data": {
            "text/plain": [
              "<matplotlib.axes._subplots.AxesSubplot at 0x7f7193842a10>"
            ]
          },
          "metadata": {},
          "execution_count": 88
        },
        {
          "output_type": "display_data",
          "data": {
            "text/plain": [
              "<Figure size 1440x360 with 1 Axes>"
            ],
            "image/png": "[encoded data removed]"
          },
          "metadata": {
            "needs_background": "light"
          }
        }
      ]
    },
    {
      "cell_type": "markdown",
      "source": [
        "From above graph, we can see relation between gross income in which hour for all days of week.\n",
        "1. Pink line means Tuesday shows high vale of 25 between 14 and 16 hours of that day. so on tuesday 14:00PM to 16:00 PM their gross income is more.\n",
        "2. gross income is less for:\n",
        "* Friday at 12:00 Pm and 15:00 PM\n",
        "* Thursday at 13:00 PM \n",
        "* Sunday at 13:00 PM ,15:00 PM and 18:00 PM\n",
        "* Mondat at 18:00 PM\n",
        "* Thursday at 13:00 PM\n",
        "* wednesday at 12:00 Pm\n",
        "* Tuesday at 18:00 PM\n",
        "\n"
      ],
      "metadata": {
        "id": "SwpbjFl4Gq5Z"
      }
    },
    {
      "cell_type": "code",
      "source": [
        "plt.figure(figsize=(10,5))  # for bigger size\n",
        "sns.lineplot( x = \"week\",\n",
        "             y = \"gross income\",\n",
        "             data = sales)  # we are checking for which day of week ,gross income is more"
      ],
      "metadata": {
        "colab": {
          "base_uri": "https://localhost:8080/",
          "height": 351
        },
        "id": "36-Tn4kTs7HU",
        "outputId": "685217f9-d1d9-4bd6-ef6d-e1e819140387"
      },
      "execution_count": null,
      "outputs": [
        {
          "output_type": "execute_result",
          "data": {
            "text/plain": [
              "<matplotlib.axes._subplots.AxesSubplot at 0x7f7193a24950>"
            ]
          },
          "metadata": {},
          "execution_count": 83
        },
        {
          "output_type": "display_data",
          "data": {
            "text/plain": [
              "<Figure size 720x360 with 1 Axes>"
            ],
            "image/png": "[encoded data removed]"
          },
          "metadata": {
            "needs_background": "light"
          }
        }
      ]
    },
    {
      "cell_type": "markdown",
      "source": [
        "when we notice relation between days of week and gross income. here, saturday,sunday,thursday,tuesday have high gross income.SO in this days, we can make sure no employee take OFF to maintain gross income."
      ],
      "metadata": {
        "id": "ESx8F-yCFZ-J"
      }
    },
    {
      "cell_type": "markdown",
      "source": [
        "##5. What is the spending pattern of both males and females, meaning in which category do they spend more?"
      ],
      "metadata": {
        "id": "0mMmUz4tI-4a"
      }
    },
    {
      "cell_type": "code",
      "source": [
        "sns.countplot(x='Gender',hue='Product code',data=sales) # for which gender ,which product code they buy "
      ],
      "metadata": {
        "colab": {
          "base_uri": "https://localhost:8080/",
          "height": 299
        },
        "id": "UWSRvmaMMoIA",
        "outputId": "a8043099-9c5e-4140-a902-a47f1fb888f4"
      },
      "execution_count": null,
      "outputs": [
        {
          "output_type": "execute_result",
          "data": {
            "text/plain": [
              "<matplotlib.axes._subplots.AxesSubplot at 0x7f7191d45250>"
            ]
          },
          "metadata": {},
          "execution_count": 99
        },
        {
          "output_type": "display_data",
          "data": {
            "text/plain": [
              "<Figure size 432x288 with 1 Axes>"
            ],
            "image/png": "[encoded data removed]"
          },
          "metadata": {
            "needs_background": "light"
          }
        }
      ]
    },
    {
      "cell_type": "markdown",
      "source": [
        "* PD1 male is buying more than female\n",
        "* PD2 male and females are buying equal amounts\n",
        "* PD3 male is buying more than female\n",
        "* PD4 female is buying more than male\n",
        "* PD5 Female is buying more than male\n",
        "* PD6 Female is buying more than male\n",
        "\n",
        "|Product line | product code|\n",
        "|---|---|\n",
        "|Health & beauty| PD1\n",
        "|Electronic accesories| PD2\n",
        "|Home & lifestyle | PD3\n",
        "|Sports and travel | PD4\n",
        "|Food & beverages|PD5\n",
        "|fashion accesories|PD6\n",
        "\n",
        "*  ** Finally, we can say, Females buys PD4,PD5,PD6 more and Males buys PD1,PD3 more , and PD2 is consumed by both equally.**"
      ],
      "metadata": {
        "id": "YxAlnJ7iNDG-"
      }
    },
    {
      "cell_type": "markdown",
      "source": [
        "## 6.How many products are bought by customers?"
      ],
      "metadata": {
        "id": "ouZX0cF1OAMJ"
      }
    },
    {
      "cell_type": "code",
      "source": [
        "plt.figure(figsize=(5,5))  # for size\n",
        "sns.barplot(x='Product code',y='Quantity',data=sales)  # how many products based on quantity of that product"
      ],
      "metadata": {
        "colab": {
          "base_uri": "https://localhost:8080/",
          "height": 351
        },
        "id": "UfXPN7r4PEg3",
        "outputId": "4f693e19-f49f-4eca-81b1-bdd961c4a5b4"
      },
      "execution_count": null,
      "outputs": [
        {
          "output_type": "execute_result",
          "data": {
            "text/plain": [
              "<matplotlib.axes._subplots.AxesSubplot at 0x7f7191a74190>"
            ]
          },
          "metadata": {},
          "execution_count": 105
        },
        {
          "output_type": "display_data",
          "data": {
            "text/plain": [
              "<Figure size 360x360 with 1 Axes>"
            ],
            "image/png": "[encoded data removed]"
          },
          "metadata": {
            "needs_background": "light"
          }
        }
      ]
    },
    {
      "cell_type": "markdown",
      "source": [
        "here, PD2 and PD3 are highly sold based on Quantities sold of that product"
      ],
      "metadata": {
        "id": "hYFi4tUtQDmw"
      }
    },
    {
      "cell_type": "code",
      "source": [
        "plt.figure(figsize=(5,5))  # size\n",
        "sns.countplot(x='Product code',data=sales) # how many products per each"
      ],
      "metadata": {
        "colab": {
          "base_uri": "https://localhost:8080/",
          "height": 351
        },
        "id": "1ngSF0ddPXKp",
        "outputId": "17096e35-72b3-4775-8134-452b62dc08c3"
      },
      "execution_count": null,
      "outputs": [
        {
          "output_type": "execute_result",
          "data": {
            "text/plain": [
              "<matplotlib.axes._subplots.AxesSubplot at 0x7f719168d210>"
            ]
          },
          "metadata": {},
          "execution_count": 108
        },
        {
          "output_type": "display_data",
          "data": {
            "text/plain": [
              "<Figure size 360x360 with 1 Axes>"
            ],
            "image/png": "[encoded data removed]"
          },
          "metadata": {
            "needs_background": "light"
          }
        }
      ]
    },
    {
      "cell_type": "markdown",
      "source": [
        "here, PD6 has highest count with 175. so PD6 is highly used by customers. and PD1 with 150 are lessly used by customers."
      ],
      "metadata": {
        "id": "i-vDgq5LQWG0"
      }
    },
    {
      "cell_type": "markdown",
      "source": [
        "## 7.Which day of the week has maximum sales?"
      ],
      "metadata": {
        "id": "JcJHfC1qQlQH"
      }
    },
    {
      "cell_type": "code",
      "source": [
        "plt.figure(figsize=(10,5))  # for size\n",
        "sns.barplot(x='week',y='Total',data=sales)  # relation between week of day and total"
      ],
      "metadata": {
        "colab": {
          "base_uri": "https://localhost:8080/",
          "height": 351
        },
        "id": "1rNV5_LJQkW4",
        "outputId": "5b8ce18a-6a42-4de5-de69-60132ab6b2dc"
      },
      "execution_count": null,
      "outputs": [
        {
          "output_type": "execute_result",
          "data": {
            "text/plain": [
              "<matplotlib.axes._subplots.AxesSubplot at 0x7f719142a2d0>"
            ]
          },
          "metadata": {},
          "execution_count": 114
        },
        {
          "output_type": "display_data",
          "data": {
            "text/plain": [
              "<Figure size 720x360 with 1 Axes>"
            ],
            "image/png": "[encoded data removed]"
          },
          "metadata": {
            "needs_background": "light"
          }
        }
      ]
    },
    {
      "cell_type": "markdown",
      "source": [
        "saturday,sunday,thursday,tuesday have maximun salesthan other weekdays.Saturday has more sales than other."
      ],
      "metadata": {
        "id": "g6INuLIDRcqU"
      }
    },
    {
      "cell_type": "markdown",
      "source": [
        "## 8.Which hour of the day is busiest? "
      ],
      "metadata": {
        "id": "-TpwzvIORwaf"
      }
    },
    {
      "cell_type": "code",
      "source": [
        "# Buisiest means high sales\n",
        "plt.figure(figsize=(10,5))  # for size\n",
        "sns.barplot(x='hour',y='Total',data=sales)  # relation between hour of day and total sales(hey will be busy)"
      ],
      "metadata": {
        "colab": {
          "base_uri": "https://localhost:8080/",
          "height": 351
        },
        "id": "wrDGBaKBRvjz",
        "outputId": "e70ade73-1e5f-4b88-e2f5-c1d69b6c9ccf"
      },
      "execution_count": null,
      "outputs": [
        {
          "output_type": "execute_result",
          "data": {
            "text/plain": [
              "<matplotlib.axes._subplots.AxesSubplot at 0x7f719158dc50>"
            ]
          },
          "metadata": {},
          "execution_count": 115
        },
        {
          "output_type": "display_data",
          "data": {
            "text/plain": [
              "<Figure size 720x360 with 1 Axes>"
            ],
            "image/png": "[encoded data removed]"
          },
          "metadata": {
            "needs_background": "light"
          }
        }
      ]
    },
    {
      "cell_type": "markdown",
      "source": [
        "At 14:00 PM, it has high sales, so this is the busiest time, after that 19:00 PM is busy time of the day."
      ],
      "metadata": {
        "id": "lOcDBxCBSHbH"
      }
    },
    {
      "cell_type": "markdown",
      "source": [
        "## 9.Which product line should your supermarket focus on? "
      ],
      "metadata": {
        "id": "wNYCJYhHSXK6"
      }
    },
    {
      "cell_type": "code",
      "source": [
        "# check product code with sales\n",
        "plt.figure(figsize=(10,5))  # for size\n",
        "sns.barplot(x='Product code',y='Total',data=sales)  # to find which have low sales, we will concentrate on that"
      ],
      "metadata": {
        "colab": {
          "base_uri": "https://localhost:8080/",
          "height": 351
        },
        "id": "l4M7gNTBSEg7",
        "outputId": "e9da5035-98d9-42a7-9c41-608da60cd49d"
      },
      "execution_count": null,
      "outputs": [
        {
          "output_type": "execute_result",
          "data": {
            "text/plain": [
              "<matplotlib.axes._subplots.AxesSubplot at 0x7f71915ef2d0>"
            ]
          },
          "metadata": {},
          "execution_count": 116
        },
        {
          "output_type": "display_data",
          "data": {
            "text/plain": [
              "<Figure size 720x360 with 1 Axes>"
            ],
            "image/png": "[encoded data removed]"
          },
          "metadata": {
            "needs_background": "light"
          }
        }
      ]
    },
    {
      "cell_type": "markdown",
      "source": [
        "PD6 has low total sales, so , we have to concentrate more on product code PD6."
      ],
      "metadata": {
        "id": "YRMaHj2GSxGo"
      }
    },
    {
      "cell_type": "markdown",
      "source": [
        "## 10.Which city should be chosen for expansion and what products should be focussed on?\n",
        "Here, we have to check relation between city,product code"
      ],
      "metadata": {
        "id": "W-tr7X3GS5YG"
      }
    },
    {
      "cell_type": "code",
      "source": [
        "# for which city code, how many product codes are selling and o which we can concentrate more\n",
        "sns.countplot(x='city code ',hue='Product code',data=sales)"
      ],
      "metadata": {
        "colab": {
          "base_uri": "https://localhost:8080/",
          "height": 296
        },
        "id": "Kzh7FFNOStc9",
        "outputId": "7744cde8-f7ef-430a-d952-b351d3bec7c4"
      },
      "execution_count": null,
      "outputs": [
        {
          "output_type": "execute_result",
          "data": {
            "text/plain": [
              "<matplotlib.axes._subplots.AxesSubplot at 0x7f719110a310>"
            ]
          },
          "metadata": {},
          "execution_count": 123
        },
        {
          "output_type": "display_data",
          "data": {
            "text/plain": [
              "<Figure size 432x288 with 1 Axes>"
            ],
            "image/png": "[encoded data removed]"
          },
          "metadata": {
            "needs_background": "light"
          }
        }
      ]
    },
    {
      "cell_type": "markdown",
      "source": [
        "* CT1: PD1 is selling less, so we have to concentrate more on PD1\n",
        "* CT3: PD3 is selling less, so we have to concentrate more on PD3\n",
        "* CT9: PD3,PD5 are selling less, so we have to concentrate more on that. \n",
        "\n",
        "|City|city code|\n",
        "|---|---|\n",
        "CT1| Yangon|\n",
        "CT3| Naypyitaw|\n",
        "CT9| Mandaley|"
      ],
      "metadata": {
        "id": "1lYqN1ncURyD"
      }
    },
    {
      "cell_type": "code",
      "source": [
        "# for which product code, in which city code are selling more and so we can expand it\n",
        "sns.countplot(hue='city code ',x='Product code',data=sales)"
      ],
      "metadata": {
        "colab": {
          "base_uri": "https://localhost:8080/",
          "height": 296
        },
        "id": "wUwW1A6YTT_D",
        "outputId": "25c0eef0-6f5d-4d41-b9d1-a758f6e3ff94"
      },
      "execution_count": null,
      "outputs": [
        {
          "output_type": "execute_result",
          "data": {
            "text/plain": [
              "<matplotlib.axes._subplots.AxesSubplot at 0x7f719102a250>"
            ]
          },
          "metadata": {},
          "execution_count": 124
        },
        {
          "output_type": "display_data",
          "data": {
            "text/plain": [
              "<Figure size 432x288 with 1 Axes>"
            ],
            "image/png": "[encoded data removed]"
          },
          "metadata": {
            "needs_background": "light"
          }
        }
      ]
    },
    {
      "cell_type": "markdown",
      "source": [
        "CT1 and CT3 are selling more for PD3 and PD5,CT3 is selling more for PD6 also.so CT3 is selling 2 products more, so we can expand in CD3. "
      ],
      "metadata": {
        "id": "jhRIs1ktVesk"
      }
    },
    {
      "cell_type": "markdown",
      "source": [
        "# Conclusion:\n",
        "we can expand supermarket in CT3(naypyitaw) city, because here sales are more.we have to concentrate on PD1(Health & beauty),PD3(Home & lifestyle),PD5(food & beverages) product codes.At 14:00 Pm we are having more sales.Females are more frequently coming to supermarkets.Branch B is having less sales, so we need to concentrate on more.On Tuesday we are having high gross income."
      ],
      "metadata": {
        "id": "qF-d28yMV5mC"
      }
    },
    {
      "cell_type": "markdown",
      "source": [
        "# created by\n",
        "---------\n",
        "|Author |Harsha Veena|\n",
        "----|----|\n",
        "|Created on |18:4:2022|\n",
        "|On| Google Colab|\n",
        "| modified|14:5:2022|"
      ],
      "metadata": {
        "id": "sMCuV2YrXMDG"
      }
    },
    {
      "cell_type": "code",
      "source": [
        ""
      ],
      "metadata": {
        "id": "Z0CFfurtdPjA"
      },
      "execution_count": null,
      "outputs": []
    }
  ]
}